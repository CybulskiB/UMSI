{
 "cells": [
  {
   "cell_type": "markdown",
   "metadata": {},
   "source": [
    "# Odczyt i podział danych"
   ]
  },
  {
   "cell_type": "code",
   "execution_count": 16,
   "metadata": {},
   "outputs": [
    {
     "name": "stdout",
     "output_type": "stream",
     "text": [
      "  label                                            message\n",
      "0   ham  Go until jurong point crazy Available only in ...\n",
      "1   ham                            Ok lar Joking wif u oni\n",
      "2  spam  Free entry in 2 a wkly comp to win FA Cup fina...\n",
      "3   ham        U dun say so early hor U c already then say\n",
      "4   ham  Nah I dont think he goes to usf he lives aroun...\n",
      "5  spam  FreeMsg Hey there darling its been 3 weeks now...\n",
      "6   ham  Even my brother is not like to speak with me T...\n",
      "7   ham  As per your request Melle Melle Oru Minnaminun...\n",
      "8  spam  WINNER As a valued network customer you have b...\n",
      "9  spam  Had your mobile 11 months or more U R entitled...\n",
      "11661\n",
      "shortcode\n"
     ]
    }
   ],
   "source": [
    "import pandas as pd\n",
    "import numpy as np\n",
    "from sklearn.model_selection import train_test_split\n",
    "\n",
    "def read_data(file_path):\n",
    "    data = pd.read_csv(file_path, sep='\\t', names=['label', 'message'])\n",
    "    data['message'] = data['message'].str.replace('[^\\w\\s]', '', regex=True)\n",
    "    return data\n",
    "\n",
    "def get_tokens(df):\n",
    "    words = df['message'].str.split()\n",
    "    unique_words = np.unique([word for sublist in words for word in sublist])\n",
    "    return unique_words\n",
    "\n",
    "df = read_data('SMSSpamCollection')\n",
    "print(df.head(10))\n",
    "\n",
    "tokens = get_tokens(df)\n",
    "print(len(tokens))\n",
    "print(tokens[10000])\n",
    "\n",
    "train, test = train_test_split(df, test_size=0.3, random_state=42)"
   ]
  },
  {
   "cell_type": "markdown",
   "metadata": {},
   "source": [
    "# Klasyfikator oparty na algorytmie NB"
   ]
  },
  {
   "cell_type": "code",
   "execution_count": 17,
   "metadata": {},
   "outputs": [],
   "source": [
    "class NaiveBayes:\n",
    "    def __init__(self):\n",
    "        self.class_probabilities = {}\n",
    "        self.conditional_probabilities = {}\n",
    "\n",
    "    def train(self, df):\n",
    "        self.class_probabilities['spam'] = sum(df['label'] == 'spam') / len(df)\n",
    "        self.class_probabilities['ham'] = sum(df['label'] == 'ham') / len(df)\n",
    "\n",
    "        for token in get_tokens(df):\n",
    "            self.conditional_probabilities[token] = {\n",
    "                # Elegancki sposob na uzyskanie prawdopodbienstwa czesci wspolnej\n",
    "                # sum(spam i token) / spam\n",
    "                'spam': (sum((df['label'] == 'spam') & (df['message'].str.contains(token))) + 1) / (sum(df['label'] == 'spam') +2),\n",
    "                'ham': (sum((df['label'] == 'ham') & (df['message'].str.contains(token))) + 1) / (sum(df['label'] == 'ham') +2)\n",
    "            }\n",
    "        # +1 i +2 sa aby uniknac zerowego prawdopodobienstwa\n",
    "\n",
    "    def predict(self, message):\n",
    "        tokens = message.split()\n",
    "        # Aby zapobiec niedomiarowi zmiennoprzecinkowemu korzystam z logarytmu\n",
    "        # oraz wzorow w oparciu o logarytm\n",
    "        spam_probability = np.log(self.class_probabilities['spam'])\n",
    "        ham_probability = np.log(self.class_probabilities['ham'])\n",
    "\n",
    "        for token in tokens:\n",
    "            if token in self.conditional_probabilities:\n",
    "                spam_probability += np.log(self.conditional_probabilities[token]['spam'])\n",
    "                ham_probability += np.log(self.conditional_probabilities[token]['ham'])\n",
    "\n",
    "        if spam_probability > ham_probability:\n",
    "            return 'spam'\n",
    "        else:\n",
    "            return 'ham'\n",
    "\n",
    "nb = NaiveBayes()\n",
    "nb.train(train)"
   ]
  },
  {
   "cell_type": "markdown",
   "metadata": {},
   "source": [
    "# Testowanie przy użyciu metryk precision i recall, f1-score oraz accuracy\n",
    "\n",
    "Precision : fraction of relevant instances among retieved instances\n",
    "\n",
    "            Relevant retrieved instances / All retrieved instances\n",
    "            True positive / True positive + false positive   -> Obrazek na wiki to lepiej tlumaczy niz ich definicja\n",
    "            Spam zaklasyfikowany jako spam / ---;--- + ham zaklasyfikowany jako spam\n",
    "- Chlopski rozum: jak bardzo precyzyjnie odrozniamy spam od hamu (a nie że wszystko jako spam i fajrant)\n",
    "\n",
    "Recall    : fraction of relevant instances that were retrieved\n",
    "\n",
    "            Relevant retrieved instances / All relevant instances\n",
    "            True positive / True positive + false negative\n",
    "            Spam zaklasyfikowany jako spam / ---;--- + spam zaklasyfikowany jako ham\n",
    "- Chlopski rozum: czyli po prostu jak dobrze rozpoznaje spam (brak analogii na recall)\n",
    "\n",
    "F1      : \n",
    "\n",
    "            ogolna miara poprawnosci uwzgledniajaca precision i recall opisana wzorem\n",
    "            F1 = 2 * (precision * recall) / (precision + recall)\n",
    "\n",
    "Accuracy :  \n",
    "\n",
    "         najbardziej intuicyjny sposób rozpoznawania \n",
    "         mozna opisac wzorem TP + TN/ (TP + TN + FP + FN)\n",
    "         albo po prostu: poprawne klasyfikacje / wszystkie klasyfikacje"
   ]
  },
  {
   "cell_type": "code",
   "execution_count": 18,
   "metadata": {},
   "outputs": [
    {
     "name": "stdout",
     "output_type": "stream",
     "text": [
      "1672\n",
      "Precision: 0.36097560975609755\n",
      "Recall: 0.9910714285714286\n",
      "F1 score: 0.5292014302741358\n",
      "Accuracy: 0.763755980861244\n"
     ]
    }
   ],
   "source": [
    "print(len(test))\n",
    "def precision(nb, test_df):\n",
    "    y_true = test_df['label']\n",
    "    y_pred = test_df['message'].apply(nb.predict)\n",
    "    tp = sum((y_true == 'spam') & (y_pred == 'spam'))\n",
    "    fp = sum((y_true == 'ham') & (y_pred == 'spam'))\n",
    "    return tp / (tp + fp)\n",
    "\n",
    "def recall(nb, test_df):\n",
    "    y_true = test_df['label']\n",
    "    y_pred = test_df['message'].apply(nb.predict)\n",
    "    tp = sum((y_true == 'spam') & (y_pred == 'spam'))\n",
    "    fn = sum((y_true == 'spam') & (y_pred == 'ham'))\n",
    "    return tp / (tp + fn)\n",
    "\n",
    "def f1_score(nb, test_df):\n",
    "    p = precision(nb, test_df)\n",
    "    r = recall(nb, test_df)\n",
    "    return 2 * p * r / (p + r)\n",
    "\n",
    "def accuracy(nb, test_df):\n",
    "    y_true = test_df['label']\n",
    "    y_pred = test_df['message'].apply(nb.predict)\n",
    "    return sum(y_true == y_pred) / len(y_true)\n",
    "\n",
    "# Usage\n",
    "print(f'Precision: {precision(nb, test)}')\n",
    "print(f'Recall: {recall(nb, test)}')\n",
    "print(f'F1 score: {f1_score(nb, test)}')\n",
    "print(f'Accuracy: {accuracy(nb, test)}')"
   ]
  },
  {
   "cell_type": "markdown",
   "metadata": {},
   "source": [
    "# Wykresy"
   ]
  },
  {
   "cell_type": "code",
   "execution_count": 21,
   "metadata": {},
   "outputs": [
    {
     "data": {
      "image/png": "[encoded data removed]",
      "text/plain": [
       "<Figure size 1000x1000 with 4 Axes>"
      ]
     },
     "metadata": {},
     "output_type": "display_data"
    }
   ],
   "source": [
    "import matplotlib.pyplot as plt\n",
    "\n",
    "def plot_metrics(nb, train_df, test_df):\n",
    "    fig, axs = plt.subplots(2, 2, figsize=(10, 10))\n",
    "\n",
    "    # Precision\n",
    "    axs[0, 0].bar(['Train', 'Test'], [precision(nb, train_df), precision(nb, test_df)])\n",
    "    axs[0, 0].set_title('Precision')\n",
    "\n",
    "    # Recall\n",
    "    axs[0, 1].bar(['Train', 'Test'], [recall(nb, train_df), recall(nb, test_df)])\n",
    "    axs[0, 1].set_title('Recall')\n",
    "\n",
    "    # F1 score\n",
    "    axs[1, 0].bar(['Train', 'Test'], [f1_score(nb, train_df), f1_score(nb, test_df)])\n",
    "    axs[1, 0].set_title('F1 Score')\n",
    "\n",
    "    # Accuracy\n",
    "    axs[1, 1].bar(['Train', 'Test'], [accuracy(nb, train_df), accuracy(nb, test_df)])\n",
    "    axs[1, 1].set_title('Accuracy')\n",
    "\n",
    "    plt.tight_layout()\n",
    "    plt.show()\n",
    "\n",
    "\n",
    "plot_metrics(nb, train, test)"
   ]
  }
 ],
 "metadata": {
  "kernelspec": {
   "display_name": "Python 3",
   "language": "python",
   "name": "python3"
  },
  "language_info": {
   "codemirror_mode": {
    "name": "ipython",
    "version": 3
   },
   "file_extension": ".py",
   "mimetype": "text/x-python",
   "name": "python",
   "nbconvert_exporter": "python",
   "pygments_lexer": "ipython3",
   "version": "3.11.8"
  }
 },
 "nbformat": 4,
 "nbformat_minor": 2
}
