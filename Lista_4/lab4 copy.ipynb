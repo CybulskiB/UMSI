{
 "cells": [
  {
   "cell_type": "markdown",
   "id": "77d98a4e-9418-4397-8b7a-8088621543bc",
   "metadata": {},
   "source": [
    "# Lista 4\n",
    "\n",
    "## Uczenie maszynowe i sztuczna inteligencja\n",
    "\n",
    "## Wstęp\n",
    "Na tych zajęciach przejdziemy już do wykorzystywania bardziej zaawansowanych funkcji *PyTorcha*,\n",
    "które przydają się na co dzień do konstruowania sieci neuronowych."
   ]
  },
  {
   "cell_type": "markdown",
   "id": "4f12e531-8232-4f3c-bd6d-2094e1b01676",
   "metadata": {},
   "source": [
    "\n"
   ]
  },
  {
   "cell_type": "markdown",
   "id": "06432e17-952e-467d-9c9e-93126c2473dc",
   "metadata": {},
   "source": [
    "# Zadanie 1 (10pt)\n",
    "\n",
    "W celu zaliczenia zadania należy uzupełnić wszystkie brakujące elementu kodu, wykonać wszystkie polecenia i wyuczyć model.\n",
    "\n"
   ]
  },
  {
   "cell_type": "markdown",
   "id": "0554bd7f-92f4-4bf0-a198-07060fe49bdc",
   "metadata": {},
   "source": [
    "## Cel zadania\n",
    "Celem zadania jest zapoznanie z podstawowymi funkcjami biblioteki *PyTorch* do tworzenia i uczenia sieci neuronowych a w szczególności z:\n",
    "*   Automatycznym liczeniem gradientów grafem obliczeniowym (autograd)\n",
    "*   Algorytmami off-line, on-line a także pojęciem mini-batch\n",
    "*   Algorytmami optymalizacji sieci neuronowych\n",
    "*   Liczeniem wartości funkcji straty\n",
    "*   Przekształceniami nieliniowymi\n",
    "*   Modułem `torch.nn`"
   ]
  },
  {
   "cell_type": "code",
   "execution_count": 1,
   "id": "6d2f2413-f388-47b5-8c82-5ea16a90ef4f",
   "metadata": {},
   "outputs": [],
   "source": [
    "import math\n",
    "import warnings\n",
    "from typing import Tuple\n",
    "\n",
    "import torch\n",
    "import torch.nn.functional as F\n",
    "from sklearn.model_selection import train_test_split\n",
    "from sklearn.datasets import load_iris\n",
    "from torch import nn\n",
    "from torch import optim\n",
    "from torch.utils.data import TensorDataset, DataLoader"
   ]
  },
  {
   "cell_type": "markdown",
   "id": "013099e9-afea-4473-8040-30d9d9e8198a",
   "metadata": {},
   "source": [
    "## Autograd - automatyczne liczenie gradientów\n",
    "\n",
    "Na poprzednich liście zaimplementowaliśmy funkcję wstecznej propagacji. W tym celu liczyliśmy pochodne (gradienty). Przyjrzyjmy się najpierw funkcji\n",
    "$$f(x, y) = 3x^2 + y^3$$\n",
    "Możemy tę funkcję różniczkować po dwóch zmiennych: $x$ i $y$:\n",
    "$$\\frac{\\partial f}{\\partial x} = 6x$$\n",
    "\n",
    "$$\\frac{\\partial f}{\\partial y} = 3y^2$$\n",
    "\n",
    "Jeżeli funkcję $f(x,y)$ złożymy z funkcją $g(x) = x^2$ tworząc funkcję $h(x, y) = f(g(x), y)$ to z **reguły łańcuchowej** pochodna takiej funkcji wyniesie:\n",
    "\n",
    "$$\\frac{\\partial h}{\\partial x} = \\frac{\\partial f}{\\partial g} \\frac{\\partial g}{\\partial x} = (6 (x^2)) (2 x) = 12 x^3$$\n",
    "\n",
    "Tego typu obliczenia przy wielu warstwach sieci (a więc przy wielu złożeniach funkcji liniowych i nieliniowych) stają się mocno skomplikowane. Na szczęście *PyTorch* dostarcza `torch.autograd` - silnik do automatycznego liczenia gradientów. Jak on działa? Najpierw zdefiniujmy wektory $\\mathbf x$ i $\\mathbf y$."
   ]
  },
  {
   "cell_type": "code",
   "execution_count": 2,
   "id": "aadad022-2dab-43a8-af69-f193bb540f4a",
   "metadata": {},
   "outputs": [],
   "source": [
    "x = torch.tensor([0., 1., 5.], requires_grad=True)\n",
    "y = torch.tensor([8., 2., 4.], requires_grad=True)"
   ]
  },
  {
   "cell_type": "markdown",
   "id": "8cef6bee-caf9-4d9b-9099-deb70bafcccb",
   "metadata": {},
   "source": [
    "Zauważ, że tworząc tensor przekazaliśmy parametr `requires_grad=True`.\n",
    " Sprawia on, że wszystkie operacje dokonane na tym tensorze są śledzone i\n",
    " tensor wynikowy będzie \"pamiętał\" przy użyciu jakiej operacji powstał. \n",
    "Policzmy naszą funkcję $f( \\mathbf x, \\mathbf y)$ dla tych tensorów."
   ]
  },
  {
   "cell_type": "code",
   "execution_count": 3,
   "id": "e6e2f49c-433c-45cd-9761-8b1a65ef2f35",
   "metadata": {},
   "outputs": [
    {
     "data": {
      "text/plain": [
       "tensor([512.,  11., 139.], grad_fn=<AddBackward0>)"
      ]
     },
     "execution_count": 3,
     "metadata": {},
     "output_type": "execute_result"
    }
   ],
   "source": [
    "z = 3*x**2 + y**3\n",
    "z"
   ]
  },
  {
   "cell_type": "markdown",
   "id": "faad137f-901b-4927-b5da-b6468205b183",
   "metadata": {},
   "source": [
    "Jak widać uzyskany tensor ma także zapisany parametr `grad_fn=<AddBackward0>`, czyli że powstał z dodania dwóch tensorów - dodawanie jest ostatnią operacją, która została wykonana, żeby otrzymać ten tensor. Dokonajmy propagacji wstecznej w celu policzenia gradientów."
   ]
  },
  {
   "cell_type": "code",
   "execution_count": 4,
   "id": "56632dcb-1ac1-4618-a381-359c67d37eb0",
   "metadata": {},
   "outputs": [
    {
     "name": "stdout",
     "output_type": "stream",
     "text": [
      "tensor([True, True, True])\n",
      "tensor([True, True, True])\n",
      "tensor([ 0.,  6., 30.])\n"
     ]
    }
   ],
   "source": [
    "grad_tensors = torch.tensor([1., 1., 1.])\n",
    "z.backward(grad_tensors)\n",
    "print(x.grad == 6*x)\n",
    "print(y.grad == 3*y**2)\n",
    "print(x.grad)"
   ]
  },
  {
   "cell_type": "markdown",
   "id": "08556aa9-adc6-44b8-b30f-53921d1cf9a3",
   "metadata": {},
   "source": [
    "Nie zgadzają nam się wartości. - **u mnie się zgadzają - aby przestały trzeba wykonać pownie komórke z z oraz ta** - Wynika to z kolejnej własności pytorchowego autograda - gradienty w tensorach są **akumulowane**. Jak wykonasz powyższą komórkę wielokrotnie to zobaczysz że wartości `x.grad` rosną dokładnie o $12x_i^3$ po każdym wykonaniu -**aby to zaobserwować trzbea wykonać komórkę poniżej gdzie liczymy h(x,y) potem komórkę gdzie liczymy z a dopiero potem powyższą**-. Akumulacja gradientów jest przydatna w niektórych architekturach sieci neuronowych. Dlatego też trzeba *explicite* wyzerować gradienty."
   ]
  },
  {
   "cell_type": "code",
   "execution_count": 5,
   "id": "ce002306-8285-4150-99a3-7c34fdb0b28c",
   "metadata": {},
   "outputs": [
    {
     "name": "stdout",
     "output_type": "stream",
     "text": [
      "tensor([   0.,   12., 1500.])\n",
      "tensor([   0.,   12., 1500.], grad_fn=<MulBackward0>)\n"
     ]
    }
   ],
   "source": [
    "x.grad.data.zero_()\n",
    "a = 3*(x**2)**2 + y**3\n",
    "a.backward(grad_tensors)\n",
    "print(x.grad)\n",
    "print(12*(x**3))\n",
    "assert (x.grad == 12*(x**3)).all()"
   ]
  },
  {
   "cell_type": "markdown",
   "id": "c6861b63-6747-4e87-a2c1-a85effd3dbae",
   "metadata": {},
   "source": [
    "Najpierw zacznijmy od załadowania zbioru danych i podzielenia go na zbiór uczący i testowy."
   ]
  },
  {
   "cell_type": "code",
   "execution_count": 6,
   "id": "78b84082-3673-4549-a1f0-02eca10641b3",
   "metadata": {},
   "outputs": [
    {
     "data": {
      "text/plain": [
       "tensor([0, 2, 0, 1, 2, 1, 1, 2, 2, 0, 2, 0, 2, 2, 1, 1, 2, 1, 2, 1, 0, 0, 2, 0,\n",
       "        1, 1, 2, 0, 2, 0, 0, 1, 1, 2, 2, 0, 0, 0, 0, 2, 1, 2, 0, 0, 2, 2, 1, 0,\n",
       "        0, 1, 2, 1, 1, 1, 2, 1, 0, 0, 1, 1], dtype=torch.int32)"
      ]
     },
     "execution_count": 6,
     "metadata": {},
     "output_type": "execute_result"
    }
   ],
   "source": [
    "X, y = load_iris(return_X_y=True)\n",
    "\n",
    "X_train, X_test, y_train, y_test = train_test_split(X, y, test_size=0.4, random_state=1, stratify=y)\n",
    "\n",
    "X_train = torch.tensor(X_train).float()\n",
    "X_test = torch.tensor(X_test).float()\n",
    "y_train = torch.tensor(y_train)\n",
    "y_test = torch.tensor(y_test)\n",
    "\n",
    "y_test"
   ]
  },
  {
   "cell_type": "markdown",
   "id": "6d945497-9548-4c60-9dfb-4f9bffa9afee",
   "metadata": {},
   "source": [
    "## `nn.Module` oraz `CrossEntropyLoss`\n",
    "\n",
    "Na wykładzie implementowaliśmy funkcję sigmoid, inicjalizację parametrów oraz propagację w przód i wsteczną. Tym razem nie będzie trzeba tego robić, jednakże zdefiniujemy architekturę sieci przy użyciu modułu `torch.nn`.\n",
    "\n",
    "***Zaimplementuj*** klasę Perceptron - klasę dziedziczącą po `nn.Module` z jedną warstwą transformacji liniowej (Perceptrona, [`torch.nn.Linear`](https://pytorch.org/docs/stable/generated/torch.nn.Linear.html)). Na razie ***pomiń*** transformację nieliniową (np. sigmoid). "
   ]
  },
  {
   "cell_type": "code",
   "execution_count": 7,
   "id": "c34ad362-653b-41ef-baf0-7b565d6b4b79",
   "metadata": {},
   "outputs": [],
   "source": [
    "class Perceptron(nn.Module):\n",
    "    def __init__(self, input_dim, output_dim):\n",
    "        super().__init__()\n",
    "        self.net = nn.Linear(input_dim, output_dim)\n",
    "    \n",
    "    def forward(self, x: torch.Tensor):\n",
    "        return self.net(x)\n"
   ]
  },
  {
   "cell_type": "markdown",
   "id": "f4f2b956-3eb5-4436-90e7-25136b39df00",
   "metadata": {},
   "source": [
    "*Uwaga*: Można także nadal używać `torch.nn` i nie wykorzystywać gotowych warstw sieci tylko samemu implementować operacje na tensorach:\n",
    "\n",
    "```\n",
    "class Perceptron(nn.Module):\n",
    "    def __init__(self, in_dim: int, out_dim: int):\n",
    "        super().__init__()\n",
    "        self.weights = nn.Parameter(\n",
    "          torch.randn(in_dim, out_dim) / math.sqrt(in_dim)\n",
    "        )\n",
    "        self.bias = nn.Parameter(torch.zeros(out_dim))\n",
    "\n",
    "    def forward(self, xb: torch.Tensor):\n",
    "        return xb @ self.weights + self.bias\n",
    "```\n",
    "\n",
    "***Przetestuj*** poprawność swojej implementacji."
   ]
  },
  {
   "cell_type": "code",
   "execution_count": 8,
   "id": "2eac7e2a-c916-41dd-bbae-cabbfeaf96e5",
   "metadata": {},
   "outputs": [
    {
     "name": "stdout",
     "output_type": "stream",
     "text": [
      "tensor([2.6850, 4.1196, 4.6170], grad_fn=<ViewBackward0>)\n"
     ]
    }
   ],
   "source": [
    "model = Perceptron(4, 3) \n",
    "y_pred_0 = model(X_train[0])\n",
    "print(y_pred_0)\n",
    "\n",
    "assert isinstance(y_pred_0, torch.FloatTensor)\n",
    "assert len(y_pred_0) == 3"
   ]
  },
  {
   "cell_type": "markdown",
   "id": "446de991-7419-4ff6-98a6-5d9c0da633ff",
   "metadata": {},
   "source": [
    "Wykorzystanie `nn.Linear` nie tylko odciążyło nas z implementacji operacji na tensorach, ale także z inicjalizacji parametrów modelu - inicjalizacja parametrów jest domyślnie implementowana przez daną warstwę. Jeżeli uruchomisz powyższy kod wielokrotnie to zauważysz, że za każdym razem otrzymujesz inny tensor wyjściowy. Wynika to z tego, że początkowe parametry modelu są domyślnie **losowane**. Oznacza to, że proces uczenia będzie **niedeterministyczny** - każde uruchomienie da inny wynik parametrów, które model się nauczy.\n",
    "\n",
    "Pozostało jeszcze dodanie nieliniowej transformacji do sieci, ale nie będziemy tego robić. Dodatkowo zamiast tworzyć osobny klasyfikator na klasę, zastosujemy jeden klasyfikator. W tym celu zmieniamy funkcję kosztu. Do klasyfikacji wieloklasowej wykorzystamy funkcję **straty krzyżowej entropii** (Cross Entropy Loss).\n",
    "\n",
    "$$\\text{loss} = -\\frac{1}{N}\\sum_{i}^{N}\\log(\\text{softmax}(x_{i}){y_{i}}), $$ gdzie $N$ oznacza liczbę przypadków, $x_{i}$ wyjście z ostatniej warstwy $i$-tej instancji, $y_{i}$ klasę $i$-tej instancji.\n",
    "\n",
    "**Softmax** jest przekształceniem nielinowym powszechnie używanym jako ostatnia warstwa sieci neuronowej służącej do klasyfikacji. Jej mocną stroną jest to, że suma wszystkich elementów tensora będących na jej wyjściu wynosi $1$. Dzięki temu możemy wyjście sieci interpretować jako przypisanie prawdopodbieństwa dla klasyfikacji dla danej próbki.\n",
    "\n",
    "Dla danego wektora $\\mathbf x = (x_1, x_2, \\ldots, x_i, \\ldots, x_C)$ funkcja Softmax jest zdefiniowana jako:\n",
    "$$\\text{softmax}(x_{i}) = \\frac{\\exp(x_{i})}{\\sum_{j}^{C} \\exp(x_{j})},$$\n",
    "gdzie $C$ oznacza liczbę klas.\n",
    "\n",
    "W tym zadaniu nie będziemy implementować tych funkcji samemu tylko wykorzystamy gotową implementację w bibliotece torch. Implementację znajdziemy w [`torch.nn.CrossEntropyLoss`](https://pytorch.org/docs/stable/generated/torch.nn.CrossEntropyLoss.html). Przyjmuje ona \"surowe\" wartości, dlatego że oblicza również funkcję **LogSoftmax**. Alternatywnie możemy nałożyć funkcję aktywacji LogSoftmax z modułu [`torch.nn.LogSoftmax`](https://pytorch.org/docs/stable/generated/torch.nn.LogSoftmax.html) i obliczyć negatywny logarytm funkcji wiarygodności (ang. *negative log likelihood*) [`torch.nn.NLLLoss`](https://pytorch.org/docs/stable/generated/torch.nn.NLLLoss.html#torch.nn.NLLLoss). `torch.nn.NLLLoss` nie wykonuje operacji logarytmowania tylko oczekuje zlogarytmowanego wejścia.\n",
    "\n",
    "**LogSoftmax** wykorzystany jest tutaj nieprzypadkowo. Funkcja softmax w oryginalnej postaci nie jest odporna na wystąpienie niestabilności numerycznych. W przypadku liczenia entropii krzyżowej możemy wykorzystać skalę logarytmiczną do przeprowadzenia operacji. Dzięki przeniesieniu obliczania logarytmu do funkcji Softmax możemy zastąpić dzielenie na różnicę logarytmów, czyli zamiast powyższej definicji funkcja LogSoftmax przyjmuję następującą postać:\n",
    "\n",
    "$$\\text{logsoftmax}(x_{i}) = x_{i} - \\log \\bigg({\\sum_{j}^{C} \\exp(x_{j})}\\bigg)$$\n",
    "\n",
    "Dodatkowo stosowany jest także trik polegający na zastąpieniu operacji $\\log \\bigg({\\sum_{j}^{C} \\exp(x_{j})}\\bigg)$ operacją **LogSumExp**, zdefiniowaną jako\n",
    "\n",
    "$$\\text{logsumexp}(\\mathbf x) = \\max(\\mathbf x) + \\log \\bigg({\\sum_{j}^{C} \\exp(x_{j} - \\max(\\mathbf x))}\\bigg).$$\n",
    "\n",
    "Pozwala to pozbyć się dużych wartości $x_{j}$ podczas obliczania $\\exp$.\n",
    "\n",
    "\n"
   ]
  },
  {
   "cell_type": "markdown",
   "id": "e4c448c2-e15e-48e1-b302-9f9e35a10dfd",
   "metadata": {},
   "source": [
    "## Algorytmy online i offline (`DataLoader`)\n",
    "\n",
    "Na poprzednich listach implementowaliśmy **algorytm offline** (alternatywnie batchowy lub deterministyczny, ang. *offline*, *batch*, *deterministic*) tzn. taki, który przetwarza od razu wszystkie dane. Jednakże implementując sieci neuronowe tworzymy często algorytmy **online** (alternatywnie stochastyczne, ang. *online*, *stochastic*), które przetwarzają dane w \"kawałkach\" lub wręcz mogą dostawać je \"na bieżąco\" bez konieczności posiadania wszystkich danych przed uruchomieniem algorytmu. Są różne powody, dla których tak się robi, ale najczęściej jest tak, że przy głębszych architekturach i bardziej złożonych obiektach (np. obrazach) byłoby fizycznie niemożliwe pomieścić te wszystkie dane w pamięci RAM lub VRAM (RAM na GPU) wraz z parametrami modelu.\n",
    "\n",
    "Liczbę próbek w algorytmach stochastycznych w sieciach neuronowych określa się jako **minibatch size** lub po prostu **batch size**. Przy czym określenie *batch size* nie odnosi się tutaj do algorytmów batchowych (operujących na całym zbiorze danych), tylko do algorytmów online/minibatch. Po prostu *batch size* jest określeniem krótszym (ale mniej poprawnym) niż *minibatch size*, stąd też powszechnie używa się tego pierwszego. Z tego też powodu czasami niektórzy używają określenia *batch* na *minibatch* - warto mieć to na uwadze przy komunikowaniu się z innymi osobami.\n",
    "\n",
    "Do zaimplementowania minibatchy wykorzystamy [`torch.utils.data.DataLoader`](https://pytorch.org/docs/stable/data.html#torch.utils.data.DataLoader).\n",
    "\n",
    "***Zaimplementuj*** funkcję `to_dataloader`, która `X_train` i `y_train` oraz `X_test` i `y_test` umieści w dwóch osobnych instancjach klasy `DataLoader` z wielkością minibatacha równą `batch_size`"
   ]
  },
  {
   "cell_type": "code",
   "execution_count": 9,
   "id": "d90161e0-65a8-4e9f-891c-7abe57373b16",
   "metadata": {},
   "outputs": [],
   "source": [
    "def to_dataloader(\n",
    "    X_train: torch.Tensor, \n",
    "    y_train: torch.Tensor, \n",
    "    X_test: torch.Tensor, \n",
    "    y_test: torch.Tensor, \n",
    "    batch_size: int = 32\n",
    ") -> Tuple[DataLoader, DataLoader]:\n",
    "    train_ds = TensorDataset(X_train, y_train)\n",
    "    train_dl = DataLoader(train_ds, batch_size=batch_size, shuffle=True)\n",
    "\n",
    "    test_ds = TensorDataset(X_test, y_test)\n",
    "    test_dl = DataLoader(test_ds, batch_size=batch_size)\n",
    "\n",
    "    return train_dl, test_dl"
   ]
  },
  {
   "cell_type": "markdown",
   "id": "811672c8-ce27-4562-b68b-0abab8c9649f",
   "metadata": {},
   "source": [
    "***Przetestuj*** implementację"
   ]
  },
  {
   "cell_type": "code",
   "execution_count": 10,
   "id": "5209c867-df3f-4603-9cc4-51b4a4685f63",
   "metadata": {},
   "outputs": [
    {
     "name": "stdout",
     "output_type": "stream",
     "text": [
      "[tensor([[5.1000, 3.8000, 1.9000, 0.4000],\n",
      "        [7.4000, 2.8000, 6.1000, 1.9000],\n",
      "        [4.6000, 3.2000, 1.4000, 0.2000],\n",
      "        [6.4000, 2.9000, 4.3000, 1.3000],\n",
      "        [7.3000, 2.9000, 6.3000, 1.8000],\n",
      "        [7.0000, 3.2000, 4.7000, 1.4000],\n",
      "        [5.1000, 2.5000, 3.0000, 1.1000],\n",
      "        [7.2000, 3.2000, 6.0000, 1.8000],\n",
      "        [6.7000, 2.5000, 5.8000, 1.8000],\n",
      "        [5.0000, 3.4000, 1.5000, 0.2000],\n",
      "        [6.1000, 3.0000, 4.9000, 1.8000],\n",
      "        [5.1000, 3.5000, 1.4000, 0.2000],\n",
      "        [6.9000, 3.2000, 5.7000, 2.3000],\n",
      "        [6.2000, 3.4000, 5.4000, 2.3000],\n",
      "        [6.0000, 3.4000, 4.5000, 1.6000],\n",
      "        [6.1000, 3.0000, 4.6000, 1.4000],\n",
      "        [6.8000, 3.0000, 5.5000, 2.1000],\n",
      "        [6.8000, 2.8000, 4.8000, 1.4000],\n",
      "        [5.7000, 2.5000, 5.0000, 2.0000],\n",
      "        [6.2000, 2.2000, 4.5000, 1.5000],\n",
      "        [5.7000, 4.4000, 1.5000, 0.4000],\n",
      "        [5.0000, 3.5000, 1.6000, 0.6000],\n",
      "        [6.7000, 3.3000, 5.7000, 2.5000],\n",
      "        [4.4000, 2.9000, 1.4000, 0.2000],\n",
      "        [5.6000, 2.7000, 4.2000, 1.3000],\n",
      "        [6.6000, 3.0000, 4.4000, 1.4000],\n",
      "        [5.9000, 3.0000, 5.1000, 1.8000],\n",
      "        [5.4000, 3.9000, 1.7000, 0.4000],\n",
      "        [6.7000, 3.1000, 5.6000, 2.4000],\n",
      "        [4.9000, 3.0000, 1.4000, 0.2000],\n",
      "        [4.6000, 3.4000, 1.4000, 0.3000],\n",
      "        [5.7000, 2.8000, 4.1000, 1.3000]]), tensor([0, 2, 0, 1, 2, 1, 1, 2, 2, 0, 2, 0, 2, 2, 1, 1, 2, 1, 2, 1, 0, 0, 2, 0,\n",
      "        1, 1, 2, 0, 2, 0, 0, 1], dtype=torch.int32)]\n",
      "[tensor([[6.7000, 3.1000, 4.4000, 1.4000],\n",
      "        [6.5000, 3.0000, 5.5000, 1.8000],\n",
      "        [6.4000, 2.7000, 5.3000, 1.9000],\n",
      "        [4.8000, 3.4000, 1.6000, 0.2000],\n",
      "        [5.2000, 3.4000, 1.4000, 0.2000],\n",
      "        [5.4000, 3.4000, 1.7000, 0.2000],\n",
      "        [4.8000, 3.0000, 1.4000, 0.1000],\n",
      "        [6.5000, 3.0000, 5.2000, 2.0000],\n",
      "        [6.5000, 2.8000, 4.6000, 1.5000],\n",
      "        [7.1000, 3.0000, 5.9000, 2.1000],\n",
      "        [4.9000, 3.1000, 1.5000, 0.2000],\n",
      "        [5.4000, 3.9000, 1.3000, 0.4000],\n",
      "        [6.5000, 3.0000, 5.8000, 2.2000],\n",
      "        [4.9000, 2.5000, 4.5000, 1.7000],\n",
      "        [6.1000, 2.8000, 4.7000, 1.2000],\n",
      "        [4.9000, 3.1000, 1.5000, 0.1000],\n",
      "        [5.0000, 3.0000, 1.6000, 0.2000],\n",
      "        [4.9000, 2.4000, 3.3000, 1.0000],\n",
      "        [6.9000, 3.1000, 5.1000, 2.3000],\n",
      "        [5.5000, 2.3000, 4.0000, 1.3000],\n",
      "        [5.6000, 3.0000, 4.5000, 1.5000],\n",
      "        [6.3000, 3.3000, 4.7000, 1.6000],\n",
      "        [5.6000, 2.8000, 4.9000, 2.0000],\n",
      "        [5.4000, 3.0000, 4.5000, 1.5000],\n",
      "        [5.7000, 3.8000, 1.7000, 0.3000],\n",
      "        [4.9000, 3.6000, 1.4000, 0.1000],\n",
      "        [6.0000, 2.2000, 4.0000, 1.0000],\n",
      "        [6.1000, 2.8000, 4.0000, 1.3000]]), tensor([1, 2, 2, 0, 0, 0, 0, 2, 1, 2, 0, 0, 2, 2, 1, 0, 0, 1, 2, 1, 1, 1, 2, 1,\n",
      "        0, 0, 1, 1], dtype=torch.int32)]\n"
     ]
    }
   ],
   "source": [
    "train_loader, test_loader = to_dataloader(\n",
    "    X_train=X_train,  y_train=y_train, \n",
    "    X_test=X_test, y_test=y_test, \n",
    "    batch_size=32\n",
    ")\n",
    "\n",
    "for sample in test_loader:\n",
    "    print(sample)"
   ]
  },
  {
   "cell_type": "markdown",
   "id": "bfec7bdb-1fc7-4190-a43d-a7ee0f2d3d2a",
   "metadata": {},
   "source": [
    "## Ewaluacja modelu - metryki\n",
    "\n",
    "_**Zaimplementuj**_ funkcję `validate`, które dla danego modelu, funkcji straty i loadera zwróci średnią wartość funkcji straty oraz dokładność (ang. _accuracy_) dla danych z `dataloader`."
   ]
  },
  {
   "cell_type": "code",
   "execution_count": 11,
   "id": "b0370bf6-9b05-400c-b047-dee6a761c5c4",
   "metadata": {},
   "outputs": [],
   "source": [
    "def count_correct(\n",
    "    y_pred: torch.Tensor, y_true: torch.Tensor\n",
    ") -> torch.Tensor:\n",
    "    preds = torch.argmax(y_pred, dim=1)\n",
    "    return (preds == y_true).float().sum()\n",
    "\n",
    "def validate(\n",
    "    model: nn.Module, \n",
    "    loss_fn: torch.nn.CrossEntropyLoss, \n",
    "    dataloader: DataLoader\n",
    ") -> Tuple[torch.Tensor, torch.Tensor]:\n",
    "    loss = 0\n",
    "    correct = 0\n",
    "    all = 0\n",
    "    for X_batch, y_batch in dataloader:\n",
    "        y_pred = model(X_batch)\n",
    "        all += len(y_pred)\n",
    "        loss += len(y_pred) * loss_fn(y_pred, y_batch.long()) \n",
    "        correct += count_correct(y_pred, y_batch)\n",
    "    return loss / all, correct / all\n"
   ]
  },
  {
   "cell_type": "markdown",
   "id": "9a02dde5-5895-4fb8-bf84-0b8e060e241c",
   "metadata": {},
   "source": [
    "***Przetestuj*** swoją implementację"
   ]
  },
  {
   "cell_type": "code",
   "execution_count": 12,
   "id": "04236f5f-b478-4d19-92f7-36988cd8c337",
   "metadata": {},
   "outputs": [
    {
     "name": "stdout",
     "output_type": "stream",
     "text": [
      "tensor(0.9413, grad_fn=<DivBackward0>)\n",
      "tensor(0.5333)\n"
     ]
    }
   ],
   "source": [
    "loss_fn = torch.nn.CrossEntropyLoss()\n",
    "val_train, acc_train = validate(model, loss_fn, test_loader)\n",
    "print(val_train)\n",
    "print(acc_train)"
   ]
  },
  {
   "cell_type": "markdown",
   "id": "10821c44-a8f5-4e03-9f42-0c409f3b57f4",
   "metadata": {},
   "source": [
    "## Uczenie\n",
    "\n",
    "Przed uzupełnieniem poniżej implementacji została nam jeszcze jedna istotna kwestia do poruszenia. Otóż do tej pory aktualizację parametrów dokonywaliśmy wg prostej formuły - mnożyliśmy gradienty przez współczynnik uczenia (ang. *learning rate*) i odejmowaliśmy od parametrów. Jednakże do uczenia sieci neuronowych stosujemy często optymalizatory (ang. *optimiser*), które mogą implementować różne podejścia do uaktualniania parametrów modelu. Wykorzystamy tutaj algorytm **Adam** (ang. *adaptive moment estimation*), który dostosowuje współczynnik uczenia do poszczególnych parametrów i jest często optymizatorem pierwszego wyboru.\n",
    "\n",
    "***Uzupełnij i przetestuj*** poniższą implementację uczenia modelu."
   ]
  },
  {
   "cell_type": "code",
   "execution_count": 13,
   "id": "fbcb604a-d654-4c4c-b0e5-9879079409f9",
   "metadata": {},
   "outputs": [
    {
     "name": "stdout",
     "output_type": "stream",
     "text": [
      "Epoch 0: train loss = 2.930 (acc: 0.333), test loss = 2.901 (acc: 0.333)\n",
      "Epoch 1: train loss = 2.877 (acc: 0.333), test loss = 2.849 (acc: 0.333)\n",
      "Epoch 2: train loss = 2.825 (acc: 0.333), test loss = 2.797 (acc: 0.333)\n",
      "Epoch 3: train loss = 2.775 (acc: 0.333), test loss = 2.747 (acc: 0.333)\n",
      "Epoch 4: train loss = 2.725 (acc: 0.333), test loss = 2.697 (acc: 0.333)\n",
      "Epoch 5: train loss = 2.675 (acc: 0.333), test loss = 2.647 (acc: 0.333)\n",
      "Epoch 6: train loss = 2.626 (acc: 0.333), test loss = 2.598 (acc: 0.333)\n",
      "Epoch 7: train loss = 2.577 (acc: 0.333), test loss = 2.550 (acc: 0.333)\n",
      "Epoch 8: train loss = 2.529 (acc: 0.333), test loss = 2.502 (acc: 0.333)\n",
      "Epoch 9: train loss = 2.481 (acc: 0.333), test loss = 2.455 (acc: 0.333)\n",
      "Epoch 10: train loss = 2.435 (acc: 0.333), test loss = 2.409 (acc: 0.333)\n",
      "Epoch 11: train loss = 2.390 (acc: 0.333), test loss = 2.363 (acc: 0.333)\n",
      "Epoch 12: train loss = 2.345 (acc: 0.333), test loss = 2.319 (acc: 0.333)\n",
      "Epoch 13: train loss = 2.302 (acc: 0.333), test loss = 2.276 (acc: 0.333)\n",
      "Epoch 14: train loss = 2.259 (acc: 0.333), test loss = 2.233 (acc: 0.333)\n",
      "Epoch 15: train loss = 2.217 (acc: 0.333), test loss = 2.192 (acc: 0.333)\n",
      "Epoch 16: train loss = 2.176 (acc: 0.333), test loss = 2.151 (acc: 0.333)\n",
      "Epoch 17: train loss = 2.135 (acc: 0.333), test loss = 2.110 (acc: 0.333)\n",
      "Epoch 18: train loss = 2.096 (acc: 0.333), test loss = 2.071 (acc: 0.333)\n",
      "Epoch 19: train loss = 2.057 (acc: 0.333), test loss = 2.033 (acc: 0.333)\n",
      "Epoch 20: train loss = 2.019 (acc: 0.333), test loss = 1.995 (acc: 0.333)\n",
      "Epoch 21: train loss = 1.982 (acc: 0.333), test loss = 1.958 (acc: 0.333)\n",
      "Epoch 22: train loss = 1.945 (acc: 0.333), test loss = 1.922 (acc: 0.333)\n",
      "Epoch 23: train loss = 1.909 (acc: 0.333), test loss = 1.887 (acc: 0.333)\n",
      "Epoch 24: train loss = 1.874 (acc: 0.333), test loss = 1.852 (acc: 0.333)\n",
      "Epoch 25: train loss = 1.840 (acc: 0.333), test loss = 1.818 (acc: 0.333)\n",
      "Epoch 26: train loss = 1.806 (acc: 0.333), test loss = 1.785 (acc: 0.333)\n",
      "Epoch 27: train loss = 1.772 (acc: 0.333), test loss = 1.752 (acc: 0.333)\n",
      "Epoch 28: train loss = 1.740 (acc: 0.333), test loss = 1.719 (acc: 0.333)\n",
      "Epoch 29: train loss = 1.708 (acc: 0.333), test loss = 1.688 (acc: 0.333)\n",
      "Epoch 30: train loss = 1.676 (acc: 0.333), test loss = 1.657 (acc: 0.333)\n",
      "Epoch 31: train loss = 1.645 (acc: 0.333), test loss = 1.626 (acc: 0.333)\n",
      "Epoch 32: train loss = 1.614 (acc: 0.333), test loss = 1.596 (acc: 0.333)\n",
      "Epoch 33: train loss = 1.584 (acc: 0.333), test loss = 1.566 (acc: 0.333)\n",
      "Epoch 34: train loss = 1.553 (acc: 0.333), test loss = 1.536 (acc: 0.333)\n",
      "Epoch 35: train loss = 1.524 (acc: 0.344), test loss = 1.507 (acc: 0.333)\n",
      "Epoch 36: train loss = 1.495 (acc: 0.378), test loss = 1.478 (acc: 0.350)\n",
      "Epoch 37: train loss = 1.467 (acc: 0.411), test loss = 1.451 (acc: 0.383)\n",
      "Epoch 38: train loss = 1.440 (acc: 0.478), test loss = 1.425 (acc: 0.417)\n",
      "Epoch 39: train loss = 1.413 (acc: 0.522), test loss = 1.399 (acc: 0.500)\n",
      "Epoch 40: train loss = 1.387 (acc: 0.589), test loss = 1.372 (acc: 0.600)\n",
      "Epoch 41: train loss = 1.361 (acc: 0.589), test loss = 1.347 (acc: 0.617)\n",
      "Epoch 42: train loss = 1.335 (acc: 0.611), test loss = 1.322 (acc: 0.617)\n",
      "Epoch 43: train loss = 1.310 (acc: 0.644), test loss = 1.298 (acc: 0.633)\n",
      "Epoch 44: train loss = 1.286 (acc: 0.656), test loss = 1.274 (acc: 0.633)\n",
      "Epoch 45: train loss = 1.263 (acc: 0.656), test loss = 1.251 (acc: 0.650)\n",
      "Epoch 46: train loss = 1.241 (acc: 0.656), test loss = 1.229 (acc: 0.650)\n",
      "Epoch 47: train loss = 1.219 (acc: 0.656), test loss = 1.208 (acc: 0.650)\n",
      "Epoch 48: train loss = 1.197 (acc: 0.667), test loss = 1.187 (acc: 0.650)\n",
      "Epoch 49: train loss = 1.176 (acc: 0.667), test loss = 1.167 (acc: 0.650)\n"
     ]
    },
    {
     "data": {
      "image/png": "[encoded data removed]",
      "text/plain": [
       "<Figure size 1000x700 with 1 Axes>"
      ]
     },
     "metadata": {},
     "output_type": "display_data"
    },
    {
     "data": {
      "image/png": "[encoded data removed]",
      "text/plain": [
       "<Figure size 1000x700 with 1 Axes>"
      ]
     },
     "metadata": {},
     "output_type": "display_data"
    }
   ],
   "source": [
    "import matplotlib.pyplot as plt\n",
    "\n",
    "def fit(\n",
    "    model: nn.Module, optimiser: optim.Optimizer, \n",
    "    loss_fn: torch.nn.CrossEntropyLoss, train_dl: DataLoader, \n",
    "    test_dl: DataLoader, epochs: int, \n",
    "    print_metrics: str = True, \n",
    "    print_plots: str = True\n",
    "):\n",
    "    train_losses = []\n",
    "    test_losses = []\n",
    "    train_accs = []\n",
    "    test_accs = []\n",
    "\n",
    "    for epoch in range(epochs):\n",
    "        for X_batch, y_batch in train_dl:\n",
    "            y_pred = model(X_batch) # Uzyskanie pseudoprawdopodobieństw dla próbek z minibatcha\n",
    "            loss = loss_fn(y_pred, y_batch.long()) # Policzenie funkcji straty\n",
    "\n",
    "            loss.backward() # Wsteczna propagacja z wyniku funkcji straty - policzenie gradientów i zapisanie ich w tensorach (parametrach)\n",
    "            optimiser.step() # Aktualizacja parametrów modelu przez optymalizator na podstawie gradientów zapisanych w tensorach (parametrach) oraz lr\n",
    "            optimiser.zero_grad() # Wyzerowanie gradientów w modelu, alternatywnie można wywołać percepron.zero_grad()\n",
    "        \n",
    "        if print_metrics: \n",
    "            model.eval() # Przełączenie na tryb ewaluacji modelu - istotne dla takich warstw jak Dropout czy BatchNorm\n",
    "            with torch.no_grad():  # Wstrzymujemy przeliczanie i śledzenie gradientów dla tensorów - w procesie ewaluacji modelu nie chcemy zmian w gradientach\n",
    "                train_loss, train_acc = validate(model, loss_fn, train_dl)\n",
    "                test_loss, test_acc = validate(model, loss_fn, test_dl)\n",
    "\n",
    "                train_losses.append(train_loss)\n",
    "                test_losses.append(test_loss)\n",
    "                train_accs.append(train_acc)\n",
    "                test_accs.append(test_acc)\n",
    "\n",
    "                print(\n",
    "                    f\"Epoch {epoch}: \"\n",
    "                    f\"train loss = {train_loss:.3f} (acc: {train_acc:.3f}), \"\n",
    "                    f\"test loss = {test_loss:.3f} (acc: {test_acc:.3f})\"\n",
    "                )       \n",
    "    if print_plots:\n",
    "        # Wartości funkcji straty dla kolejnych epok\n",
    "        plt.figure(figsize=(10, 7))\n",
    "        plt.plot(train_losses, color='blue', label='Training loss')\n",
    "        plt.plot(test_losses, color='red', label='Test loss')\n",
    "        plt.xlabel('Epochs')\n",
    "        plt.ylabel('Loss')\n",
    "        plt.title('Loss vs. No. of epochs')\n",
    "        plt.legend()\n",
    "        plt.show()\n",
    "\n",
    "        # Wartości accuracy dla kolejnych epok\n",
    "        plt.figure(figsize=(10, 7))\n",
    "        plt.plot(train_accs, color='blue', label='Training accuracy')\n",
    "        plt.plot(test_accs, color='red', label='Test accuracy')\n",
    "        plt.xlabel('Epochs')\n",
    "        plt.ylabel('Accuracy')\n",
    "        plt.title('Accuracy vs. No. of epochs')\n",
    "        plt.legend()\n",
    "        plt.show()\n",
    "\n",
    "    model.eval() # Przełączenie na tryb ewaluacji modelu - istotne dla takich warstw jak Dropuot czy BatchNorm\n",
    "\n",
    "train_dl, test_dl = to_dataloader(\n",
    "    X_train=X_train, \n",
    "    y_train=y_train, \n",
    "    X_test=X_test, \n",
    "    y_test=y_test, \n",
    "    batch_size=32\n",
    ")\n",
    "perceptron = Perceptron(4, 3)\n",
    "optimiser = optim.Adam(perceptron.parameters(), lr=0.001)\n",
    "loss_fn = torch.nn.CrossEntropyLoss()\n",
    "fit(\n",
    "    model=perceptron, optimiser=optimiser, loss_fn=loss_fn, \n",
    "    train_dl=train_dl, test_dl=test_dl, epochs=50\n",
    ")"
   ]
  },
  {
   "cell_type": "markdown",
   "id": "2dfd8bf2-1f83-4f08-9c01-4883b1c51f46",
   "metadata": {},
   "source": [
    "***Uzupełnij*** funkcję `fit`, aby ta mogła logować metryki (*loss*, *accuracy*) per epokę. Po zebraniu historii uczenia ***przedstaw*** następujące wykresy:\n",
    "- Wykres wartości funkcji kosztu w zależności od epoki uczenia dla zbioru uczącego i testowego\n",
    "- Wykres wartości metryki *accuracy* w zależności od epoki uczenia dla zbioru uczącego i testowego \n",
    "\n",
    "Metryki dla obu zbiorów przedstaw na jednym wykresie jako serie. ***Uzupełnij*** etykiety osi i tytuły wykresów."
   ]
  },
  {
   "cell_type": "markdown",
   "id": "22262df9-7817-4963-95fb-b3db61bd8c8c",
   "metadata": {},
   "source": [
    "***Popraw*** model, tak aby otrzymać dokładność na zbiorze testowym wynoszącą co najmniej 90%. W tym celu dobierz odpowiedni współczynnik uczenia i liczbę epok. \n",
    "Do porównania badanych hiperparametrów użyj zbioru walidacyjnego. Podziel zbiór testowy na dwie równe części, jeden który będzie służyć do walidacji hiperparametrów, a drugi, który będzie służył do ewaluacji znalezionej najlepszej pary hiperparametrów. W tym celu możesz wykorzystać funkcję [`torch.utils.data.random_split`](https://pytorch.org/docs/stable/data.html#torch.utils.data.random_split) z ustawionym parametrem `generator=torch.Generator().manual_seed(1)`. Przedstaw również wykresy o których mowa w punkcie powyżej tym razem z uwzględniam trzech zbiorów [(uczącego, walidacyjnego i testowego)](https://en.wikipedia.org/wiki/Training,_validation,_and_test_data_sets)."
   ]
  },
  {
   "cell_type": "code",
   "execution_count": 14,
   "id": "c3be89d1",
   "metadata": {},
   "outputs": [],
   "source": [
    "from torch.utils.data import TensorDataset, DataLoader, random_split\n",
    "\n",
    "def to_dataloader_with_val(\n",
    "    X_train: torch.Tensor, \n",
    "    y_train: torch.Tensor, \n",
    "    X_test: torch.Tensor, \n",
    "    y_test: torch.Tensor, \n",
    "    batch_size: int = 32\n",
    ") -> Tuple[DataLoader, DataLoader, DataLoader]:\n",
    "    train_ds = TensorDataset(X_train, y_train)\n",
    "    train_dl = DataLoader(train_ds, batch_size=batch_size, shuffle=True)\n",
    "\n",
    "    # Convert the test data to a TensorDataset\n",
    "    test_ds = TensorDataset(X_test, y_test)\n",
    "\n",
    "    # Split the test set into a validation set and a new test set\n",
    "    val_size = len(test_ds) // 2\n",
    "    test_size = len(test_ds) - val_size\n",
    "    val_ds, test_ds = random_split(test_ds, [val_size, test_size], generator=torch.Generator().manual_seed(1))\n",
    "\n",
    "    # Create data loaders for the validation and test data\n",
    "    val_dl = DataLoader(val_ds, batch_size=batch_size)\n",
    "    test_dl = DataLoader(test_ds, batch_size=batch_size)\n",
    "\n",
    "    return train_dl, val_dl, test_dl\n",
    "\n",
    "\n",
    "def fit_with_val(\n",
    "    model: nn.Module, optimiser: optim.Optimizer, \n",
    "    loss_fn: torch.nn.CrossEntropyLoss, train_dl: DataLoader, \n",
    "    val_dl: DataLoader, test_dl: DataLoader, epochs: int, \n",
    "    print_metrics: str = True, \n",
    "    print_plots: str = True\n",
    "):\n",
    "    train_losses = []\n",
    "    val_losses = []\n",
    "    test_losses = []\n",
    "    train_accs = []\n",
    "    val_accs = []\n",
    "    test_accs = []\n",
    "    val_acc = -1.0\n",
    "\n",
    "    for epoch in range(epochs):\n",
    "        for X_batch, y_batch in train_dl:\n",
    "            y_pred = model(X_batch) # Uzyskanie pseudoprawdopodobieństw dla próbek z minibatcha\n",
    "            loss = loss_fn(y_pred, y_batch.long()) # Policzenie funkcji straty\n",
    "\n",
    "            loss.backward() # Wsteczna propagacja z wyniku funkcji straty - policzenie gradientów i zapisanie ich w tensorach (parametrach)\n",
    "            optimiser.step() # Aktualizacja parametrów modelu przez optymalizator na podstawie gradientów zapisanych w tensorach (parametrach) oraz lr\n",
    "            optimiser.zero_grad() # Wyzerowanie gradientów w modelu, alternatywnie można wywołać percepron.zero_grad()\n",
    "        \n",
    "        model.eval() # Przełączenie na tryb ewaluacji modelu - istotne dla takich warstw jak Dropout czy BatchNorm\n",
    "        with torch.no_grad():  # Wstrzymujemy przeliczanie i śledzenie gradientów dla tensorów - w procesie ewaluacji modelu nie chcemy zmian w gradientach\n",
    "            train_loss, train_acc = validate(model, loss_fn, train_dl)\n",
    "            val_loss, val_acc = validate(model, loss_fn, val_dl)\n",
    "            test_loss, test_acc = validate(model, loss_fn, test_dl)\n",
    "\n",
    "            train_losses.append(train_loss)\n",
    "            val_losses.append(val_loss)\n",
    "            test_losses.append(test_loss)\n",
    "            train_accs.append(train_acc)\n",
    "            val_accs.append(val_acc)\n",
    "            test_accs.append(test_acc)\n",
    "\n",
    "        if print_metrics: \n",
    "                print(\n",
    "                    f\"Epoch {epoch}: \"\n",
    "                    f\"train loss = {train_loss:.3f} (acc: {train_acc:.3f}), \"\n",
    "                    f\"val loss = {val_loss:.3f} (acc: {val_acc:.3f}), \"\n",
    "                    f\"test loss = {test_loss:.3f} (acc: {test_acc:.3f})\"\n",
    "                )       \n",
    "    if print_plots:\n",
    "        # Wartości funkcji straty dla kolejnych epok\n",
    "        plt.figure(figsize=(10, 7))\n",
    "        plt.plot(train_losses, color='blue', label='Training loss')\n",
    "        plt.plot(val_losses, color='green', label='Validation loss')\n",
    "        plt.plot(test_losses, color='red', label='Test loss')\n",
    "        plt.xlabel('Epochs')\n",
    "        plt.ylabel('Loss')\n",
    "        plt.title('Loss vs. No. of epochs')\n",
    "        plt.legend()\n",
    "        plt.show()\n",
    "\n",
    "        # Wartości accuracy dla kolejnych epok\n",
    "        plt.figure(figsize=(10, 7))\n",
    "        plt.plot(train_accs, color='blue', label='Training accuracy')\n",
    "        plt.plot(val_accs, color='green', label='Validation accuracy')\n",
    "        plt.plot(test_accs, color='red', label='Test accuracy')\n",
    "        plt.xlabel('Epochs')\n",
    "        plt.ylabel('Accuracy')\n",
    "        plt.title('Accuracy vs. No. of epochs')\n",
    "        plt.legend()\n",
    "        plt.show()\n",
    "\n",
    "    model.eval() # Przełączenie na tryb ewaluacji modelu - istotne dla takich warstw jak Dropout czy BatchNorm\n",
    "\n",
    "    return val_acc\n",
    "\n"
   ]
  },
  {
   "cell_type": "code",
   "execution_count": 15,
   "id": "15800766",
   "metadata": {},
   "outputs": [
    {
     "name": "stdout",
     "output_type": "stream",
     "text": [
      "Best model: lr = 0.01, epochs = 150, validation accuracy = 1.0\n",
      "Epoch 0: train loss = 1.062 (acc: 0.389), val loss = 1.192 (acc: 0.267), test loss = 0.936 (acc: 0.467)\n",
      "Epoch 1: train loss = 0.889 (acc: 0.656), val loss = 0.974 (acc: 0.600), test loss = 0.810 (acc: 0.700)\n",
      "Epoch 2: train loss = 0.787 (acc: 0.667), val loss = 0.831 (acc: 0.600), test loss = 0.757 (acc: 0.733)\n",
      "Epoch 3: train loss = 0.772 (acc: 0.667), val loss = 0.789 (acc: 0.667), test loss = 0.777 (acc: 0.667)\n",
      "Epoch 4: train loss = 0.792 (acc: 0.667), val loss = 0.796 (acc: 0.667), test loss = 0.815 (acc: 0.667)\n",
      "Epoch 5: train loss = 0.791 (acc: 0.667), val loss = 0.792 (acc: 0.667), test loss = 0.819 (acc: 0.667)\n",
      "Epoch 6: train loss = 0.762 (acc: 0.667), val loss = 0.767 (acc: 0.667), test loss = 0.784 (acc: 0.667)\n",
      "Epoch 7: train loss = 0.736 (acc: 0.667), val loss = 0.748 (acc: 0.667), test loss = 0.746 (acc: 0.667)\n",
      "Epoch 8: train loss = 0.717 (acc: 0.656), val loss = 0.738 (acc: 0.667), test loss = 0.716 (acc: 0.700)\n",
      "Epoch 9: train loss = 0.703 (acc: 0.711), val loss = 0.731 (acc: 0.500), test loss = 0.692 (acc: 0.700)\n",
      "Epoch 10: train loss = 0.687 (acc: 0.767), val loss = 0.718 (acc: 0.667), test loss = 0.672 (acc: 0.733)\n",
      "Epoch 11: train loss = 0.673 (acc: 0.667), val loss = 0.704 (acc: 0.667), test loss = 0.658 (acc: 0.667)\n",
      "Epoch 12: train loss = 0.663 (acc: 0.667), val loss = 0.695 (acc: 0.667), test loss = 0.649 (acc: 0.667)\n",
      "Epoch 13: train loss = 0.654 (acc: 0.667), val loss = 0.686 (acc: 0.667), test loss = 0.640 (acc: 0.667)\n",
      "Epoch 14: train loss = 0.644 (acc: 0.667), val loss = 0.676 (acc: 0.667), test loss = 0.629 (acc: 0.667)\n",
      "Epoch 15: train loss = 0.634 (acc: 0.667), val loss = 0.665 (acc: 0.667), test loss = 0.619 (acc: 0.667)\n",
      "Epoch 16: train loss = 0.624 (acc: 0.667), val loss = 0.654 (acc: 0.667), test loss = 0.610 (acc: 0.667)\n",
      "Epoch 17: train loss = 0.615 (acc: 0.667), val loss = 0.644 (acc: 0.667), test loss = 0.601 (acc: 0.667)\n",
      "Epoch 18: train loss = 0.606 (acc: 0.667), val loss = 0.635 (acc: 0.667), test loss = 0.593 (acc: 0.700)\n",
      "Epoch 19: train loss = 0.598 (acc: 0.689), val loss = 0.626 (acc: 0.667), test loss = 0.585 (acc: 0.700)\n",
      "Epoch 20: train loss = 0.591 (acc: 0.811), val loss = 0.620 (acc: 0.667), test loss = 0.576 (acc: 0.800)\n",
      "Epoch 21: train loss = 0.583 (acc: 0.756), val loss = 0.611 (acc: 0.667), test loss = 0.569 (acc: 0.733)\n",
      "Epoch 22: train loss = 0.576 (acc: 0.667), val loss = 0.603 (acc: 0.667), test loss = 0.564 (acc: 0.667)\n",
      "Epoch 23: train loss = 0.569 (acc: 0.689), val loss = 0.596 (acc: 0.667), test loss = 0.556 (acc: 0.700)\n",
      "Epoch 24: train loss = 0.562 (acc: 0.722), val loss = 0.590 (acc: 0.667), test loss = 0.548 (acc: 0.733)\n",
      "Epoch 25: train loss = 0.556 (acc: 0.722), val loss = 0.583 (acc: 0.667), test loss = 0.543 (acc: 0.733)\n",
      "Epoch 26: train loss = 0.550 (acc: 0.700), val loss = 0.576 (acc: 0.667), test loss = 0.538 (acc: 0.700)\n",
      "Epoch 27: train loss = 0.544 (acc: 0.789), val loss = 0.571 (acc: 0.667), test loss = 0.529 (acc: 0.733)\n",
      "Epoch 28: train loss = 0.538 (acc: 0.889), val loss = 0.567 (acc: 0.900), test loss = 0.522 (acc: 0.900)\n",
      "Epoch 29: train loss = 0.533 (acc: 0.911), val loss = 0.561 (acc: 0.900), test loss = 0.516 (acc: 0.967)\n",
      "Epoch 30: train loss = 0.527 (acc: 0.900), val loss = 0.555 (acc: 0.900), test loss = 0.511 (acc: 0.900)\n",
      "Epoch 31: train loss = 0.522 (acc: 0.833), val loss = 0.548 (acc: 0.767), test loss = 0.507 (acc: 0.800)\n",
      "Epoch 32: train loss = 0.517 (acc: 0.844), val loss = 0.543 (acc: 0.767), test loss = 0.502 (acc: 0.833)\n",
      "Epoch 33: train loss = 0.512 (acc: 0.856), val loss = 0.537 (acc: 0.800), test loss = 0.497 (acc: 0.867)\n",
      "Epoch 34: train loss = 0.507 (acc: 0.911), val loss = 0.533 (acc: 0.900), test loss = 0.491 (acc: 0.900)\n",
      "Epoch 35: train loss = 0.502 (acc: 0.889), val loss = 0.528 (acc: 0.900), test loss = 0.487 (acc: 0.867)\n",
      "Epoch 36: train loss = 0.498 (acc: 0.856), val loss = 0.522 (acc: 0.833), test loss = 0.484 (acc: 0.867)\n",
      "Epoch 37: train loss = 0.494 (acc: 0.933), val loss = 0.519 (acc: 0.933), test loss = 0.477 (acc: 1.000)\n",
      "Epoch 38: train loss = 0.489 (acc: 0.889), val loss = 0.513 (acc: 0.867), test loss = 0.475 (acc: 0.867)\n",
      "Epoch 39: train loss = 0.485 (acc: 0.889), val loss = 0.509 (acc: 0.867), test loss = 0.470 (acc: 0.867)\n",
      "Epoch 40: train loss = 0.481 (acc: 0.878), val loss = 0.505 (acc: 0.867), test loss = 0.467 (acc: 0.867)\n",
      "Epoch 41: train loss = 0.477 (acc: 0.856), val loss = 0.500 (acc: 0.833), test loss = 0.464 (acc: 0.867)\n",
      "Epoch 42: train loss = 0.473 (acc: 0.911), val loss = 0.496 (acc: 0.900), test loss = 0.458 (acc: 0.867)\n",
      "Epoch 43: train loss = 0.469 (acc: 0.922), val loss = 0.493 (acc: 0.900), test loss = 0.454 (acc: 0.900)\n",
      "Epoch 44: train loss = 0.466 (acc: 0.944), val loss = 0.489 (acc: 0.933), test loss = 0.450 (acc: 1.000)\n",
      "Epoch 45: train loss = 0.463 (acc: 0.956), val loss = 0.487 (acc: 0.967), test loss = 0.445 (acc: 1.000)\n",
      "Epoch 46: train loss = 0.459 (acc: 0.956), val loss = 0.483 (acc: 0.967), test loss = 0.442 (acc: 1.000)\n",
      "Epoch 47: train loss = 0.456 (acc: 0.956), val loss = 0.478 (acc: 0.967), test loss = 0.439 (acc: 1.000)\n",
      "Epoch 48: train loss = 0.452 (acc: 0.944), val loss = 0.473 (acc: 0.933), test loss = 0.437 (acc: 0.967)\n",
      "Epoch 49: train loss = 0.449 (acc: 0.878), val loss = 0.469 (acc: 0.867), test loss = 0.436 (acc: 0.867)\n",
      "Epoch 50: train loss = 0.445 (acc: 0.956), val loss = 0.466 (acc: 0.933), test loss = 0.430 (acc: 1.000)\n",
      "Epoch 51: train loss = 0.442 (acc: 0.944), val loss = 0.463 (acc: 0.933), test loss = 0.428 (acc: 0.933)\n",
      "Epoch 52: train loss = 0.439 (acc: 0.956), val loss = 0.459 (acc: 0.933), test loss = 0.424 (acc: 0.967)\n",
      "Epoch 53: train loss = 0.436 (acc: 0.944), val loss = 0.456 (acc: 0.933), test loss = 0.422 (acc: 0.933)\n",
      "Epoch 54: train loss = 0.433 (acc: 0.956), val loss = 0.453 (acc: 0.967), test loss = 0.418 (acc: 1.000)\n",
      "Epoch 55: train loss = 0.430 (acc: 0.956), val loss = 0.450 (acc: 0.967), test loss = 0.415 (acc: 1.000)\n",
      "Epoch 56: train loss = 0.427 (acc: 0.956), val loss = 0.447 (acc: 0.967), test loss = 0.412 (acc: 1.000)\n",
      "Epoch 57: train loss = 0.424 (acc: 0.956), val loss = 0.443 (acc: 0.967), test loss = 0.410 (acc: 1.000)\n",
      "Epoch 58: train loss = 0.422 (acc: 0.956), val loss = 0.441 (acc: 0.967), test loss = 0.407 (acc: 1.000)\n",
      "Epoch 59: train loss = 0.419 (acc: 0.956), val loss = 0.437 (acc: 0.967), test loss = 0.405 (acc: 0.967)\n",
      "Epoch 60: train loss = 0.416 (acc: 0.956), val loss = 0.434 (acc: 0.967), test loss = 0.402 (acc: 1.000)\n",
      "Epoch 61: train loss = 0.414 (acc: 0.956), val loss = 0.432 (acc: 0.967), test loss = 0.398 (acc: 1.000)\n",
      "Epoch 62: train loss = 0.411 (acc: 0.956), val loss = 0.429 (acc: 0.967), test loss = 0.395 (acc: 1.000)\n",
      "Epoch 63: train loss = 0.408 (acc: 0.956), val loss = 0.426 (acc: 0.967), test loss = 0.393 (acc: 1.000)\n",
      "Epoch 64: train loss = 0.406 (acc: 0.956), val loss = 0.422 (acc: 0.967), test loss = 0.393 (acc: 0.933)\n",
      "Epoch 65: train loss = 0.403 (acc: 0.956), val loss = 0.420 (acc: 0.967), test loss = 0.390 (acc: 0.967)\n",
      "Epoch 66: train loss = 0.401 (acc: 0.956), val loss = 0.417 (acc: 0.967), test loss = 0.386 (acc: 1.000)\n",
      "Epoch 67: train loss = 0.398 (acc: 0.956), val loss = 0.415 (acc: 0.967), test loss = 0.384 (acc: 1.000)\n",
      "Epoch 68: train loss = 0.396 (acc: 0.956), val loss = 0.412 (acc: 0.967), test loss = 0.381 (acc: 1.000)\n",
      "Epoch 69: train loss = 0.393 (acc: 0.956), val loss = 0.409 (acc: 0.967), test loss = 0.380 (acc: 1.000)\n",
      "Epoch 70: train loss = 0.391 (acc: 0.956), val loss = 0.406 (acc: 0.967), test loss = 0.377 (acc: 1.000)\n",
      "Epoch 71: train loss = 0.389 (acc: 0.956), val loss = 0.404 (acc: 0.967), test loss = 0.375 (acc: 1.000)\n",
      "Epoch 72: train loss = 0.387 (acc: 0.944), val loss = 0.402 (acc: 0.967), test loss = 0.372 (acc: 1.000)\n",
      "Epoch 73: train loss = 0.384 (acc: 0.956), val loss = 0.399 (acc: 0.967), test loss = 0.370 (acc: 1.000)\n",
      "Epoch 74: train loss = 0.382 (acc: 0.956), val loss = 0.396 (acc: 0.967), test loss = 0.368 (acc: 1.000)\n",
      "Epoch 75: train loss = 0.380 (acc: 0.956), val loss = 0.393 (acc: 0.967), test loss = 0.367 (acc: 0.967)\n",
      "Epoch 76: train loss = 0.378 (acc: 0.956), val loss = 0.391 (acc: 0.967), test loss = 0.366 (acc: 0.967)\n",
      "Epoch 77: train loss = 0.376 (acc: 0.956), val loss = 0.389 (acc: 0.967), test loss = 0.361 (acc: 1.000)\n",
      "Epoch 78: train loss = 0.374 (acc: 0.944), val loss = 0.387 (acc: 0.967), test loss = 0.359 (acc: 1.000)\n",
      "Epoch 79: train loss = 0.372 (acc: 0.944), val loss = 0.385 (acc: 0.967), test loss = 0.357 (acc: 1.000)\n",
      "Epoch 80: train loss = 0.369 (acc: 0.944), val loss = 0.382 (acc: 0.967), test loss = 0.355 (acc: 1.000)\n",
      "Epoch 81: train loss = 0.367 (acc: 0.956), val loss = 0.380 (acc: 0.967), test loss = 0.353 (acc: 1.000)\n",
      "Epoch 82: train loss = 0.366 (acc: 0.956), val loss = 0.377 (acc: 0.967), test loss = 0.354 (acc: 0.967)\n",
      "Epoch 83: train loss = 0.364 (acc: 0.956), val loss = 0.375 (acc: 0.967), test loss = 0.351 (acc: 1.000)\n",
      "Epoch 84: train loss = 0.361 (acc: 0.956), val loss = 0.373 (acc: 0.967), test loss = 0.348 (acc: 1.000)\n",
      "Epoch 85: train loss = 0.359 (acc: 0.956), val loss = 0.371 (acc: 0.967), test loss = 0.346 (acc: 1.000)\n",
      "Epoch 86: train loss = 0.358 (acc: 0.944), val loss = 0.369 (acc: 0.967), test loss = 0.343 (acc: 1.000)\n",
      "Epoch 87: train loss = 0.356 (acc: 0.944), val loss = 0.367 (acc: 0.967), test loss = 0.342 (acc: 1.000)\n",
      "Epoch 88: train loss = 0.354 (acc: 0.944), val loss = 0.364 (acc: 0.967), test loss = 0.340 (acc: 1.000)\n",
      "Epoch 89: train loss = 0.352 (acc: 0.956), val loss = 0.362 (acc: 0.967), test loss = 0.339 (acc: 1.000)\n",
      "Epoch 90: train loss = 0.350 (acc: 0.956), val loss = 0.360 (acc: 0.967), test loss = 0.337 (acc: 1.000)\n",
      "Epoch 91: train loss = 0.348 (acc: 0.956), val loss = 0.358 (acc: 0.967), test loss = 0.335 (acc: 1.000)\n",
      "Epoch 92: train loss = 0.347 (acc: 0.944), val loss = 0.356 (acc: 0.967), test loss = 0.332 (acc: 1.000)\n",
      "Epoch 93: train loss = 0.345 (acc: 0.944), val loss = 0.354 (acc: 0.967), test loss = 0.331 (acc: 1.000)\n",
      "Epoch 94: train loss = 0.343 (acc: 0.956), val loss = 0.353 (acc: 0.967), test loss = 0.329 (acc: 1.000)\n",
      "Epoch 95: train loss = 0.341 (acc: 0.956), val loss = 0.350 (acc: 0.967), test loss = 0.328 (acc: 1.000)\n",
      "Epoch 96: train loss = 0.341 (acc: 0.956), val loss = 0.348 (acc: 0.967), test loss = 0.329 (acc: 0.967)\n",
      "Epoch 97: train loss = 0.339 (acc: 0.956), val loss = 0.346 (acc: 0.967), test loss = 0.327 (acc: 0.967)\n",
      "Epoch 98: train loss = 0.336 (acc: 0.944), val loss = 0.344 (acc: 0.967), test loss = 0.323 (acc: 1.000)\n",
      "Epoch 99: train loss = 0.335 (acc: 0.944), val loss = 0.343 (acc: 0.967), test loss = 0.321 (acc: 1.000)\n",
      "Epoch 100: train loss = 0.333 (acc: 0.944), val loss = 0.341 (acc: 0.967), test loss = 0.319 (acc: 1.000)\n",
      "Epoch 101: train loss = 0.331 (acc: 0.944), val loss = 0.339 (acc: 0.967), test loss = 0.317 (acc: 1.000)\n",
      "Epoch 102: train loss = 0.330 (acc: 0.944), val loss = 0.336 (acc: 0.967), test loss = 0.317 (acc: 1.000)\n",
      "Epoch 103: train loss = 0.328 (acc: 0.956), val loss = 0.334 (acc: 0.967), test loss = 0.316 (acc: 1.000)\n",
      "Epoch 104: train loss = 0.327 (acc: 0.956), val loss = 0.333 (acc: 0.967), test loss = 0.315 (acc: 1.000)\n",
      "Epoch 105: train loss = 0.325 (acc: 0.944), val loss = 0.331 (acc: 0.967), test loss = 0.312 (acc: 1.000)\n",
      "Epoch 106: train loss = 0.323 (acc: 0.944), val loss = 0.330 (acc: 0.967), test loss = 0.310 (acc: 1.000)\n",
      "Epoch 107: train loss = 0.322 (acc: 0.956), val loss = 0.329 (acc: 1.000), test loss = 0.308 (acc: 1.000)\n",
      "Epoch 108: train loss = 0.320 (acc: 0.944), val loss = 0.326 (acc: 0.967), test loss = 0.307 (acc: 1.000)\n",
      "Epoch 109: train loss = 0.319 (acc: 0.956), val loss = 0.324 (acc: 0.967), test loss = 0.307 (acc: 1.000)\n",
      "Epoch 110: train loss = 0.318 (acc: 0.956), val loss = 0.322 (acc: 0.967), test loss = 0.307 (acc: 1.000)\n",
      "Epoch 111: train loss = 0.316 (acc: 0.956), val loss = 0.320 (acc: 0.967), test loss = 0.303 (acc: 1.000)\n",
      "Epoch 112: train loss = 0.314 (acc: 0.944), val loss = 0.319 (acc: 0.967), test loss = 0.301 (acc: 1.000)\n",
      "Epoch 113: train loss = 0.313 (acc: 0.967), val loss = 0.318 (acc: 1.000), test loss = 0.299 (acc: 1.000)\n",
      "Epoch 114: train loss = 0.312 (acc: 0.956), val loss = 0.317 (acc: 1.000), test loss = 0.297 (acc: 1.000)\n",
      "Epoch 115: train loss = 0.310 (acc: 0.956), val loss = 0.315 (acc: 1.000), test loss = 0.296 (acc: 1.000)\n",
      "Epoch 116: train loss = 0.309 (acc: 0.944), val loss = 0.312 (acc: 0.967), test loss = 0.295 (acc: 1.000)\n",
      "Epoch 117: train loss = 0.308 (acc: 0.956), val loss = 0.311 (acc: 0.967), test loss = 0.295 (acc: 1.000)\n",
      "Epoch 118: train loss = 0.306 (acc: 0.956), val loss = 0.309 (acc: 0.967), test loss = 0.294 (acc: 1.000)\n",
      "Epoch 119: train loss = 0.305 (acc: 0.956), val loss = 0.307 (acc: 0.967), test loss = 0.293 (acc: 1.000)\n",
      "Epoch 120: train loss = 0.303 (acc: 0.967), val loss = 0.306 (acc: 1.000), test loss = 0.289 (acc: 1.000)\n",
      "Epoch 121: train loss = 0.302 (acc: 0.956), val loss = 0.305 (acc: 1.000), test loss = 0.288 (acc: 1.000)\n",
      "Epoch 122: train loss = 0.301 (acc: 0.956), val loss = 0.304 (acc: 1.000), test loss = 0.286 (acc: 1.000)\n",
      "Epoch 123: train loss = 0.299 (acc: 0.967), val loss = 0.302 (acc: 1.000), test loss = 0.285 (acc: 1.000)\n",
      "Epoch 124: train loss = 0.298 (acc: 0.944), val loss = 0.300 (acc: 0.967), test loss = 0.285 (acc: 1.000)\n",
      "Epoch 125: train loss = 0.297 (acc: 0.944), val loss = 0.298 (acc: 0.967), test loss = 0.284 (acc: 1.000)\n",
      "Epoch 126: train loss = 0.295 (acc: 0.944), val loss = 0.297 (acc: 0.967), test loss = 0.282 (acc: 1.000)\n",
      "Epoch 127: train loss = 0.294 (acc: 0.944), val loss = 0.295 (acc: 0.967), test loss = 0.281 (acc: 1.000)\n",
      "Epoch 128: train loss = 0.293 (acc: 0.944), val loss = 0.294 (acc: 0.967), test loss = 0.280 (acc: 1.000)\n",
      "Epoch 129: train loss = 0.292 (acc: 0.967), val loss = 0.293 (acc: 1.000), test loss = 0.278 (acc: 1.000)\n",
      "Epoch 130: train loss = 0.290 (acc: 0.967), val loss = 0.291 (acc: 1.000), test loss = 0.277 (acc: 1.000)\n",
      "Epoch 131: train loss = 0.289 (acc: 0.944), val loss = 0.289 (acc: 0.967), test loss = 0.276 (acc: 1.000)\n",
      "Epoch 132: train loss = 0.288 (acc: 0.967), val loss = 0.288 (acc: 1.000), test loss = 0.274 (acc: 1.000)\n",
      "Epoch 133: train loss = 0.287 (acc: 0.944), val loss = 0.287 (acc: 0.967), test loss = 0.274 (acc: 1.000)\n",
      "Epoch 134: train loss = 0.285 (acc: 0.956), val loss = 0.285 (acc: 1.000), test loss = 0.272 (acc: 1.000)\n",
      "Epoch 135: train loss = 0.284 (acc: 0.944), val loss = 0.284 (acc: 0.967), test loss = 0.271 (acc: 1.000)\n",
      "Epoch 136: train loss = 0.283 (acc: 0.967), val loss = 0.283 (acc: 1.000), test loss = 0.269 (acc: 1.000)\n",
      "Epoch 137: train loss = 0.282 (acc: 0.967), val loss = 0.281 (acc: 1.000), test loss = 0.268 (acc: 1.000)\n",
      "Epoch 138: train loss = 0.281 (acc: 0.956), val loss = 0.281 (acc: 1.000), test loss = 0.266 (acc: 1.000)\n",
      "Epoch 139: train loss = 0.280 (acc: 0.956), val loss = 0.279 (acc: 1.000), test loss = 0.265 (acc: 1.000)\n",
      "Epoch 140: train loss = 0.279 (acc: 0.944), val loss = 0.277 (acc: 0.967), test loss = 0.266 (acc: 1.000)\n",
      "Epoch 141: train loss = 0.278 (acc: 0.944), val loss = 0.276 (acc: 0.967), test loss = 0.265 (acc: 1.000)\n",
      "Epoch 142: train loss = 0.276 (acc: 0.944), val loss = 0.274 (acc: 0.967), test loss = 0.264 (acc: 1.000)\n",
      "Epoch 143: train loss = 0.275 (acc: 0.967), val loss = 0.273 (acc: 1.000), test loss = 0.261 (acc: 1.000)\n",
      "Epoch 144: train loss = 0.274 (acc: 0.956), val loss = 0.272 (acc: 1.000), test loss = 0.260 (acc: 1.000)\n",
      "Epoch 145: train loss = 0.273 (acc: 0.956), val loss = 0.271 (acc: 1.000), test loss = 0.258 (acc: 1.000)\n",
      "Epoch 146: train loss = 0.272 (acc: 0.967), val loss = 0.269 (acc: 1.000), test loss = 0.258 (acc: 1.000)\n",
      "Epoch 147: train loss = 0.271 (acc: 0.944), val loss = 0.268 (acc: 0.967), test loss = 0.257 (acc: 1.000)\n",
      "Epoch 148: train loss = 0.270 (acc: 0.967), val loss = 0.267 (acc: 1.000), test loss = 0.256 (acc: 1.000)\n",
      "Epoch 149: train loss = 0.269 (acc: 0.967), val loss = 0.266 (acc: 1.000), test loss = 0.254 (acc: 1.000)\n"
     ]
    },
    {
     "data": {
      "image/png": "[encoded data removed]",
      "text/plain": [
       "<Figure size 1000x700 with 1 Axes>"
      ]
     },
     "metadata": {},
     "output_type": "display_data"
    },
    {
     "data": {
      "image/png": "[encoded data removed]",
      "text/plain": [
       "<Figure size 1000x700 with 1 Axes>"
      ]
     },
     "metadata": {},
     "output_type": "display_data"
    },
    {
     "data": {
      "text/plain": [
       "tensor(1.)"
      ]
     },
     "execution_count": 15,
     "metadata": {},
     "output_type": "execute_result"
    }
   ],
   "source": [
    "# Hiperparametry po których sprawdzamy\n",
    "learning_rates = [0.001, 0.01, 0.1]\n",
    "num_epochs = [50, 100, 150, 200]\n",
    "\n",
    "best_val_acc = 0\n",
    "best_lr = 0\n",
    "best_epochs = 0\n",
    "\n",
    "train_dl, val_dl, test_dl = to_dataloader_with_val(\n",
    "    X_train=X_train, \n",
    "    y_train=y_train, \n",
    "    X_test=X_test, \n",
    "    y_test=y_test, \n",
    "    batch_size=32\n",
    ")\n",
    "\n",
    "# Iterujemy po wszystkich kombinacjach\n",
    "for lr in learning_rates:\n",
    "    for epochs in num_epochs:\n",
    "        model = Perceptron(4, 3)\n",
    "        optimiser = torch.optim.Adam(model.parameters(), lr=lr)\n",
    "        # Sprawdzamy val_acc dla tego modelu\n",
    "        val_acc = fit_with_val(model, optimiser, loss_fn, train_dl, val_dl, test_dl, epochs, print_metrics=False, print_plots=False)\n",
    "        # Jesli jest lepsza zapisujemy hiperparametry\n",
    "        if val_acc > best_val_acc:\n",
    "            best_val_acc = val_acc\n",
    "            best_lr = lr\n",
    "            best_epochs = epochs\n",
    "\n",
    "print(f\"Best model: lr = {best_lr}, epochs = {best_epochs}, validation accuracy = {best_val_acc}\")\n",
    "\n",
    "# Odpalamy nowy model z hiperparametrami ktore dawaly najlepsze wyniki\n",
    "best_model = Perceptron(4, 3)\n",
    "optimiser = torch.optim.Adam(best_model.parameters(), lr=best_lr)\n",
    "fit_with_val(best_model, optimiser, loss_fn, train_dl, val_dl, test_dl, best_epochs, print_metrics=True, print_plots=True)"
   ]
  },
  {
   "cell_type": "markdown",
   "id": "ba14c8b1-08df-4b6b-81dc-5870ba924ef0",
   "metadata": {},
   "source": []
  },
  {
   "cell_type": "markdown",
   "id": "97883efa-a70d-423c-a576-4a5def84cf5f",
   "metadata": {},
   "source": [
    "# Zadanie 2 (15pt)\n",
    "\n",
    "W celu zaliczenia zadania należy uzupełnić wszystkie brakujące elementu kodu, wykonać wszystkie polecenia i wyuczyć model."
   ]
  },
  {
   "cell_type": "markdown",
   "id": "44f74b07-9d50-434d-8ed5-896aa0878405",
   "metadata": {},
   "source": [
    "## Cel zadania\n",
    "\n",
    "Celem zadania jest zapoznanie z:\n",
    "*   Wielowarstwowymi sieciami neuronowymi (MLP)\n",
    "*   Podstawami przetwarzania obrazów (ang. Computer Vision)\n",
    "*   Metodami regularyzacji sieci neuronowych\n",
    "*   Techniką wczesnego zatrzymania uczenia\n",
    "*   Tensorboardem"
   ]
  },
  {
   "cell_type": "markdown",
   "id": "fcd9abe4-32f6-4e43-9cc2-ae1490139826",
   "metadata": {},
   "source": [
    "# Zbiór danych do klasyfikacji obrazów\n",
    "\n",
    "W ramach zadania klasyfikacji obrazów wykorzystamy zbiór [FashionMNIST](https://github.com/zalandoresearch/fashion-mnist). Zbiór danych składa się z 70.000 obrazów o wymiarach 28x28 pikseli przedstawiających różne typy odzieży w skali szarości. Podobnie jak [MNIST](https://en.wikipedia.org/wiki/MNIST_database), w zbiorze występuje 10 klas.  "
   ]
  },
  {
   "cell_type": "markdown",
   "id": "0a828de8-4631-4c60-ba22-e1153bafebe6",
   "metadata": {},
   "source": [
    "### Wczytanie danych\n",
    "Do wczytania zbioru danych możemy wykorzystać [`torchvision`](https://pytorch.org/vision/stable/index.html), który zawiera popularne zbiory danych, modele i transformacje danych z dziedziny przetwarzania obrazów (ang. *computer vision*). \n",
    "\n",
    "Oryginalne dane są zapisane w postaci liczb całkowitych z zakresu 0-255 w postaci [obrazu PIL](https://pillow.readthedocs.io/en/stable/reference/Image.html). Do przeskalowania danych wykorzystamy transformację [`torchvision.transforms.ToTensor`](https://pytorch.org/vision/stable/transforms.html#torchvision.transforms.ToTensor). Transformacje danych możemy przekazywać do loadera zbioru danych z `torchvision`. Można przekazać zarówno pojedynczą operację transformacji lub złożyć kilka operacji za pomocą [`torchvision.transforms.Compose`](https://pytorch.org/vision/stable/transforms.html#torchvision.transforms.Compose)\n",
    "\n",
    "**Uwaga** \n",
    "Operacje transform są realizowane w \"locie\" w momencie wywołania `__getitem__`."
   ]
  },
  {
   "cell_type": "code",
   "execution_count": 1,
   "id": "1ba4dda3-5e86-4d6f-9d70-f354d39b1f83",
   "metadata": {},
   "outputs": [
    {
     "name": "stdout",
     "output_type": "stream",
     "text": [
      "Downloading http://fashion-mnist.s3-website.eu-central-1.amazonaws.com/train-images-idx3-ubyte.gz\n",
      "Downloading http://fashion-mnist.s3-website.eu-central-1.amazonaws.com/train-images-idx3-ubyte.gz to ./data\\FashionMNIST\\raw\\train-images-idx3-ubyte.gz\n"
     ]
    },
    {
     "name": "stderr",
     "output_type": "stream",
     "text": [
      "100.0%\n"
     ]
    },
    {
     "name": "stdout",
     "output_type": "stream",
     "text": [
      "Extracting ./data\\FashionMNIST\\raw\\train-images-idx3-ubyte.gz to ./data\\FashionMNIST\\raw\n",
      "\n",
      "Downloading http://fashion-mnist.s3-website.eu-central-1.amazonaws.com/train-labels-idx1-ubyte.gz\n",
      "Downloading http://fashion-mnist.s3-website.eu-central-1.amazonaws.com/train-labels-idx1-ubyte.gz to ./data\\FashionMNIST\\raw\\train-labels-idx1-ubyte.gz\n"
     ]
    },
    {
     "name": "stderr",
     "output_type": "stream",
     "text": [
      "100.0%\n"
     ]
    },
    {
     "name": "stdout",
     "output_type": "stream",
     "text": [
      "Extracting ./data\\FashionMNIST\\raw\\train-labels-idx1-ubyte.gz to ./data\\FashionMNIST\\raw\n",
      "\n",
      "Downloading http://fashion-mnist.s3-website.eu-central-1.amazonaws.com/t10k-images-idx3-ubyte.gz\n",
      "Downloading http://fashion-mnist.s3-website.eu-central-1.amazonaws.com/t10k-images-idx3-ubyte.gz to ./data\\FashionMNIST\\raw\\t10k-images-idx3-ubyte.gz\n"
     ]
    },
    {
     "name": "stderr",
     "output_type": "stream",
     "text": [
      "100.0%\n"
     ]
    },
    {
     "name": "stdout",
     "output_type": "stream",
     "text": [
      "Extracting ./data\\FashionMNIST\\raw\\t10k-images-idx3-ubyte.gz to ./data\\FashionMNIST\\raw\n",
      "\n",
      "Downloading http://fashion-mnist.s3-website.eu-central-1.amazonaws.com/t10k-labels-idx1-ubyte.gz\n",
      "Downloading http://fashion-mnist.s3-website.eu-central-1.amazonaws.com/t10k-labels-idx1-ubyte.gz to ./data\\FashionMNIST\\raw\\t10k-labels-idx1-ubyte.gz\n"
     ]
    },
    {
     "name": "stderr",
     "output_type": "stream",
     "text": [
      "100.0%"
     ]
    },
    {
     "name": "stdout",
     "output_type": "stream",
     "text": [
      "Extracting ./data\\FashionMNIST\\raw\\t10k-labels-idx1-ubyte.gz to ./data\\FashionMNIST\\raw\n",
      "\n"
     ]
    },
    {
     "name": "stderr",
     "output_type": "stream",
     "text": [
      "\n"
     ]
    }
   ],
   "source": [
    "import os\n",
    "\n",
    "from torchvision.datasets import FashionMNIST \n",
    "from torchvision import transforms\n",
    "\n",
    "path = './data'\n",
    "os.makedirs(path, exist_ok=True)\n",
    "\n",
    "train_data = FashionMNIST(\n",
    "    root=path, \n",
    "    train=True,\n",
    "    download=True,\n",
    "    transform=transforms.ToTensor()\n",
    ")\n",
    "test_data = FashionMNIST(\n",
    "    root=path, \n",
    "    train=False,\n",
    "    download=True,\n",
    "    transform=transforms.ToTensor()\n",
    ")"
   ]
  },
  {
   "cell_type": "markdown",
   "id": "08cd16b6-6071-4232-b6a7-6430033d5d3a",
   "metadata": {},
   "source": [
    "# Wizualizacja danych\n",
    "\n",
    "W odróżnieniu od poprzednich zadań, gdzie ręcznie rysowaliśmy krzywe uczenia i metryki, tym razem wykorzystamy narzędzie do wizualizacji [`tensorboard`](https://www.tensorflow.org/tensorboard). O ile oryginalnie Tensorboard był rozwijany dla Tensorflowa, to i tak możemy wykorzystać w PyTorchu. Funkcje pomocnicze znajdują się w module [`torch.utils.tensorboard`](https://pytorch.org/docs/stable/tensorboard.html). \n",
    "\n",
    "Tensorboard bazuje na logach, które umieszczamy w odpowiednim folderze. Dlatego najpierw zaczniemy od stworzenia takich logów, a dopiero w późniejszym etapie uruchomimy tensorboarda. Zapisywanie logów odbywa się za pomocą klasy [`SummaryWriter`](https://pytorch.org/docs/stable/tensorboard.html?highlight=summarywriter#torch.utils.tensorboard.writer.SummaryWriter)."
   ]
  },
  {
   "cell_type": "code",
   "execution_count": null,
   "id": "1e3346cf-92ce-4a94-aa8d-13e0b8952fcb",
   "metadata": {},
   "outputs": [],
   "source": [
    "from torch.utils.tensorboard import SummaryWriter\n",
    "\n",
    "log_dir = './logs/'\n",
    "os.makedirs(log_dir, exist_ok=True)\n",
    "writer = SummaryWriter(log_dir)"
   ]
  },
  {
   "cell_type": "markdown",
   "id": "074e0dce-1020-4047-be13-2553e8d6a76b",
   "metadata": {},
   "source": [
    "Wyświetlmy teraz kilka obrazów ze zbioru uczącego. Do wyświetlenia siatki zdjęć wykorzystamy funkcję pomocniczą [`torchvision.utils.make_grid`](https://pytorch.org/vision/stable/utils.html#torchvision.utils.make_grid). Do elementów zbioru uczącego, bez nałożonej transformacji, możemy się odwołać za pomocą obiektu `data`. Metoda `make_grid` oczekuje danych w formacie `Batch x Liczba Kanałów x Wysokość x Szerokość`, dlatego musimy dostosować\n",
    " odpowiednio wejście. Pełny kod zdefiniowano poniżej. Następnie \n",
    "przekazujemy utworzony w taki sposób grid, do utworzonej wcześniej \n",
    "instancji klasy `SummaryWriter` za pomocą metody `add_image`. "
   ]
  },
  {
   "cell_type": "code",
   "execution_count": null,
   "id": "5e7ffa72-c4a7-4700-abde-c9ffbedbbd79",
   "metadata": {},
   "outputs": [],
   "source": [
    "import torchvision\n",
    "\n",
    "images_to_plot = 64\n",
    "img_grid = torchvision.utils.make_grid(\n",
    "    train_data.data[0:images_to_plot].reshape(images_to_plot, 1, 28, 28)\n",
    ")\n",
    "\n",
    "writer.add_image('Train data sample', img_grid)"
   ]
  },
  {
   "cell_type": "markdown",
   "id": "17efaaea-232b-48f9-a9ba-81e029c536a3",
   "metadata": {},
   "source": [
    "Logi nie są już w tym momencie puste, a więc możemy uruchomić Tensorboarda. Tensorboard w środowisku Jupytera uruchamiamy za pomocą komend `%load_ext tensorboard` i `% tensorboard --logdir ./logs`. Można też po uruchomieniu zobaczyć tensorboard w osobnej zakładce (zazwyczaj http://localhost:6006 lub dalsze porty 6007, 6008, ...)."
   ]
  },
  {
   "cell_type": "code",
   "execution_count": null,
   "id": "f2d4a3f6-159c-4ed6-9656-b0c2fa8c3346",
   "metadata": {},
   "outputs": [],
   "source": [
    "%load_ext tensorboard\n",
    "%tensorboard --logdir $log_dir"
   ]
  },
  {
   "cell_type": "markdown",
   "id": "d36f66b8-7195-4ad0-bf56-32cc03e6c1ac",
   "metadata": {},
   "source": [
    "# Implementacja architektury MLP\n",
    "\n",
    "Teraz przejdziemy do implementacji architektury wielowarstwowego perceptrona (ang. *multilayer perceptron*, *MLP*). \n",
    "Do zdefiniowania architektury wykorzystaj moduł `torch.nn.Sequential`, przekazując obiekt `OrderDict` zawierający nazwę i warstwy. \n",
    "\n",
    "Przykład\n",
    "\n",
    "```python\n",
    "nn.Sequential(OrderedDict([\n",
    "    ('dense1', nn.Linear(20, 10)),\n",
    "    ('relu1', nn.ReLU()),\n",
    "]))\n",
    "```\n",
    "\n",
    "\n",
    "***Zaimplementuj*** podaną architekturę sieci neuronowej\n",
    "\n",
    "| Nazwa warstwy | Opis |\n",
    "| --- | --- |\n",
    "| `flatten` | Spłaszczenie obrazu z wymiaru **28x28** na wymiar **784** |\n",
    "| `dense1` | Warstwa w pełni połączona z **256** neuronami |\n",
    "| `relu1` | Funkcja aktywacji **ReLU** |\n",
    "| `dense2` | Warstwa w pełni połączona z **128** neuronami |\n",
    "| `relu2` | Funkcja aktywacji **ReLU** |\n",
    "| `dense3` | Warstwa w pełni połączona z **10** neuronami |\n",
    "\n",
    "\n",
    "*Metoda inicjalizacji wag i biasów*: domyślna dla warstwy `torch.nn.Linear` (Rozkład jednostajny z zakresem wartości $\\mathcal{U}(-\\sqrt{k}, \\sqrt{k})$, gdzie $k = \\frac{1}{\\text{in\\_features}}$)\n",
    "\n",
    "\n"
   ]
  },
  {
   "cell_type": "code",
   "execution_count": null,
   "id": "b3e35aea-0098-4811-b4de-b88a664594b8",
   "metadata": {},
   "outputs": [],
   "source": [
    "from collections import OrderedDict\n",
    "\n",
    "import torch\n",
    "from torch import nn\n",
    "\n",
    "class MLP(nn.Module): \n",
    "  def __init__(self):\n",
    "    super().__init__()\n",
    "\n",
    "    self.net = nn.Sequential(\n",
    "        ____\n",
    "    )\n",
    "  \n",
    "  def forward(self, x: torch.Tensor):\n",
    "      ____"
   ]
  },
  {
   "cell_type": "markdown",
   "id": "066f6a2f-fbc2-4f00-81aa-c492610d8967",
   "metadata": {},
   "source": [
    "Mając zdefiniowaną architekturę i wczytany zbiór danych możemy teraz \n",
    "wyświetlić naszą architekturę w postaci grafu obliczeniowego w \n",
    "Tensorboardzie. W tym celu wykorzystamy poniższy kod."
   ]
  },
  {
   "cell_type": "code",
   "execution_count": null,
   "id": "b4cbc670-4542-49d0-9f3b-e0cfb3851e2a",
   "metadata": {},
   "outputs": [],
   "source": [
    "mlp = MLP()\n",
    "\n",
    "writer.add_graph(mlp, input_to_model=train_data[0][0])\n",
    "writer.close()"
   ]
  },
  {
   "cell_type": "markdown",
   "id": "fd2038ab-7561-4145-b4ad-c138f3e35d51",
   "metadata": {},
   "source": [
    "Tym razem wykorzystany podział zbioru na trzy części: [treningowy, walidacyjny (valid) i testowy](https://en.wikipedia.org/wiki/Training,_validation,_and_test_data_sets). Z tą różnicą, że zbiór testowy pozostawimy bez zmian, aby mieć możliwość porównania się do wyników [innych klasyfikatorow](http://fashion-mnist.s3-website.eu-central-1.amazonaws.com/).   \n",
    "\n",
    "***Zaprogramuj*** nowy podział danych:\n",
    "-  Zbiór treningowy podziel na dwie części:\n",
    "   - zbiór treningowy/uczący zawierający 54.000 elementy,\n",
    "   - zbiór walidacyjny zawierający 6.000 elementów.\n",
    "- Zbiór testowy ma pozostać w oryginalnej formie.\n",
    "- Zachowaj oryginalne proporcje klas w nowo utworzonych zbiorach, tj. dokonaj stratyfikacji. Operację wykonaj na indeksach i utwórz podzbiory używając klasy `torch.utils.data.Subset`. Ustaw `random_state` podziału na $1$.\n",
    "- Utwórz instancje klasy `DataLoader` dla wszystkich części zbiorów. Ustaw wartość parametru `batch_size` na $128$"
   ]
  },
  {
   "cell_type": "code",
   "execution_count": null,
   "id": "d6c09525-5e0d-4600-8109-60ae22323040",
   "metadata": {},
   "outputs": [],
   "source": [
    "from typing import Tuple\n",
    "\n",
    "import numpy as np\n",
    "from torch.utils.data import  DataLoader, Subset\n",
    "from sklearn.model_selection import train_test_split\n",
    "\n",
    "def split_train_data(\n",
    "    train_data: torchvision.datasets.FashionMNIST\n",
    ") -> Tuple[Subset, Subset]:\n",
    "    train_idx, valid_idx = train_test_split(\n",
    "        ____,\n",
    "        test_size=___, stratify=____,\n",
    "        random_state=____\n",
    "    )\n",
    "    train = Subset(____)\n",
    "    valid = Subset(____)\n",
    "    return train, valid\n",
    "\n",
    "train, valid = split_train_data(train_data)\n",
    "\n",
    "train_loader = DataLoader(____)\n",
    "valid_loader = DataLoader(____)\n",
    "test_loader = DataLoader(____)"
   ]
  },
  {
   "cell_type": "markdown",
   "id": "e995c40d-607f-4ba2-acdf-8d359595658d",
   "metadata": {},
   "source": [
    "## Inicjalizacja parametrów sieci\n",
    "Domyślne parametry (w tym metoda inicjalizacji wag / biasów) w bibliotece `PyTorch` są dobrane tak, aby dla różnych zadań i architektur dawały optymalne wyniki. W niektórych przypadkach dobranie odpowiedniej metody inicjalizacji wag i biasów do zastosowanej architektury, może usprawnić proces uczenia, przez co poprawić osiągi modelu. Poniżej przedstawiono przykład zastąpienia domyślnej metody inicjalizacji na inicjalizację parametrów z rozkładu normalnego dla pojedynczej warstwy.\n",
    "\n",
    "```python\n",
    "from torch import nn\n",
    "\n",
    "layer = nn.Linear(100, 10)\n",
    "nn.init.normal_(layer.weight, mean=0.0, std=1.0)\n",
    "```\n",
    "Alternatywnie, możemy zmienić inicjalizacje dla kilku warstw, wykorzystując metodę `apply`.\n",
    "\n",
    "```python\n",
    "net = nn.Sequential(\n",
    "      nn.Linear(100, 10),\n",
    "      nn.Linear(10, 1)\n",
    ")\n",
    "\n",
    "def init_layer_params(layer: nn.modules.Module):\n",
    "  if isinstance(layer, nn.Linear):\n",
    "    nn.init.normal_(layer.weight, mean=0.0, std=1.0)\n",
    "    nn.init.normal_(layer.bias, mean=0.0, std=1.0)\n",
    "\n",
    "net.apply(init_layer_params)\n",
    "\n"
   ]
  },
  {
   "cell_type": "markdown",
   "id": "18873aff-8542-4d71-8172-41651e6bd0a9",
   "metadata": {},
   "source": [
    "## Generowanie wykresów w Tensorboardzie\n",
    "\n",
    "Logowanie metryk do Tensorboarda odbywa się z wykorzystaniem metody `writer.add_scalar`. Wartości dodajemy pojedynczo. Poniżej przedstawiono przekazanie wartości funkcji straty z kolejnych epok do writera.\n",
    "\n",
    "```python\n",
    "train_loss_values = [0.78, 0.65, 0.5]\n",
    "for epoch_id, train_loss in enumerate(train_loss_values):\n",
    "  writer.add_scalar(\n",
    "    tag='training loss', \n",
    "    scalar_value=train_loss, \n",
    "    global_step=epoch_id+1\n",
    "  )\n",
    "```\n",
    "Nie musimy przekazać wartości osobno dla train i test można umieścić je w jednym obiekcie. Odbywa się to za pomocą metody `writer.add_scalars`. Przykładowe wywołanie dla wartości funkcji straty ze zbioru treningowego i walidacyjnego.\n",
    "\n",
    "```python\n",
    "train_loss_values = [0.78, 0.65, 0.5]\n",
    "valid_loss_values = [0.96, 0.78, 0.79]\n",
    "\n",
    "for epoch_id, (train_loss, valid_loss) in (\n",
    "  enumerate(zip(train_loss_values, valid_loss_values))\n",
    "):\n",
    "    print(train_loss, valid_loss)\n",
    "    writer.add_scalars(\n",
    "      main_tag='loss', \n",
    "      tag_scalar_dict={\n",
    "        'train': train_loss,\n",
    "        'valid': valid_loss\n",
    "      }, \n",
    "      global_step=epoch_id+1\n",
    "    )\n",
    "```\n",
    "\n",
    "Wykresy do Tensorboard dodawane są za pomocą metody `add_figure`. Poniżej zaprezentowano przykład dodania macierzy pomyłek do Tensorboarda.\n",
    "\n",
    "```python\n",
    "from sklearn.metrics import confusion_matrix\n",
    "import matplotlib.pyplot as plt\n",
    "import seaborn as sns\n",
    "\n",
    "fig = plt.figure(figsize=(10, 5))\n",
    "cm = confusion_matrix(\n",
    "    y_true=[0, 1, 0, 0], \n",
    "    y_pred=[1, 1, 1, 0]\n",
    ")\n",
    "sns.heatmap(cm, annot=True, figure=fig)\n",
    "writer.add_figure(tag='Confusion matrix', figure=fig)\n",
    "```\n",
    "\n",
    "Można wykorzystując funkcję `fit` z poprzedniego zadania ***dodaj***:\n",
    "- Generowanie wykresów krzywej uczenia dla Tensorboarda w zależności od epoki dla zbioru uczącego oraz walidacyjnego\n",
    "- Generowanie wykresów dokładności (ang. *accuracy*) dla Tensorboarda w zależności od epoki dla zbioru uczącego oraz walidacyjnego\n",
    "- Macierz pomyłek dla zbioru testowego po zakończeniu uczenia\n",
    "\n",
    "***Przeprowadź uczenie*** modelu sieci wykorzystując następujące hiperparametry uczenia: \n",
    "\n",
    "- Funkcja straty: ***Entropia krzyżowa***\n",
    "- Wielkość paczki (*min-batch*): ***128***  \n",
    "- Optymalizator: ***Adam*** \n",
    "- Współczynnik uczenia: ***0.01***  \n",
    "- Liczba epok: ***50*** \n",
    "\n",
    "***Dokonaj ewaluacji*** modelu po zakończeniu uczenia na zbiorze testowym."
   ]
  },
  {
   "cell_type": "code",
   "execution_count": null,
   "id": "0de44aae-b820-4ac1-8d1b-042bb43543e9",
   "metadata": {},
   "outputs": [],
   "source": [
    "# TUTAJ KOD"
   ]
  },
  {
   "cell_type": "markdown",
   "id": "224bd478-7760-4311-be2d-c9de1499e9aa",
   "metadata": {},
   "source": [
    "# [Wczesne zatrzymywanie uczenia (ang. *early stopping*)](https://en.wikipedia.org/wiki/Early_stopping)\n",
    "\n",
    "Jak można zauważyć jakość klasyfikacji na zbiorze walidacyjnym po kilkunastu epokach zaczyna oscylować w takim samym zakresie wartości. Możemy wykorzystać technikę wczesnego zatrzymania, w momencie kiedy funkcja straty na zbiorze walidacyjnym przestaje maleć, zatrzymywany jest cały proces. Liczba epok po których nie dochodzi do poprawy wartości funkcji kosztu, i zatrzymywany jest proces uczenia, jest kontrolowany hiperparametrem cierpliwości (ang. *patience*).\n",
    "\n",
    "Do zaimplementowania tej techniki potrzebne nam będzie zapisywanie modelu po każdej epoce w której doszło do poprawy jakości modelu. W tym celu używamy metody `torch.save`, który zapisuje zadany mu obiekt w postaci pythonowego pickla. W bibliotece `PyTorch` dostęp do wyuczalnych parametrów mamy za pomocą `state_dict`. `state_dict` jest to pythonowy słownik, który mapuje każdą warstwę do tensora jej parametrów. Jeżeli chcemy użyć modelu do inferencji wystarczy, że zapiszemy wyłącznie parametry modelu. W przypadku kiedy chcemy mieć możliwość douczenia modelu w późniejszym momencie musimy również zapisać `state_dict` z wykorzystanego optymalizatora. Do nas należy decyzja co chcemy zapisać, więc oprócz samych parametrów warto zapisać numer epoki, wartości funkcji kosztu, hiperparametry modelu czy optymalizatora.\n",
    "\n",
    "Przykładowy kod do zapisywania modelu\n",
    "```python\n",
    "torch.save(\n",
    "    obj={\n",
    "      'epoch': epoch,\n",
    "      'loss': loss,\n",
    "      'model_state_dict': model.state_dict(),\n",
    "      'optimizer_state_dict': optimizer.state_dict(),\n",
    "      'model_args': model_args,\n",
    "      'optim_args': optim_args\n",
    "    },\n",
    "    f=output_path\n",
    ")\n",
    "```\n",
    "\n",
    " Wczytanie modelu składa się z kilku kroków:\n",
    " - Wczytujemy zapisany przez nas punkt kontrolny (ang. *checkpoint*)\n",
    " - Inicjalizujemy model i optymalizator od nowa.\n",
    " - Ładujemy obiekt `state_dict` odpowiednio do modelu i optymalizatora\n",
    "\n",
    "Przykładowy kod do wczytania modelu.\n",
    "\n",
    "```python\n",
    "checkpoint = torch.load(output_path)\n",
    "\n",
    "model = ModelCls(**checkpoint['model_args'])\n",
    "optimizer = OptimazerCls(**checkpoint['optim_args'])\n",
    "\n",
    "model.load_state_dict(checkpoint['model_state_dict'])\n",
    "optimizer.load_state_dict(checkpoint['optimizer_state_dict'])\n",
    "```"
   ]
  },
  {
   "cell_type": "markdown",
   "id": "cdbb88de-0e6f-4651-9a51-703657d4464d",
   "metadata": {},
   "source": [
    "**Zaimplementuj technikę wczesnego zatrzymania** wraz z zapisywaniem punktów kontrolnych modelu"
   ]
  },
  {
   "cell_type": "markdown",
   "id": "2891289d-b56f-4654-b216-2813bdfaf015",
   "metadata": {},
   "source": [
    "***Zastosuj*** dwie wybrane techniki regularyzacji sieci (L1, L2, Dropout). Sprawdź czy poprawiły one wyniki Twojego modelu na zbiorze testowym. Dodaj wykresy do Tensorboarda, dokonaj porównania i podsumowania wyników\n",
    "\n",
    "**UWAGA** W przypadku zastosowania metody optymalizacji `Adam` i regularyzacji `L2` należy zastosować optymalizator `AdamW`. Więcej szczegółów można znaleźć w publikacji autorów optymalizatora `AdamW` https://arxiv.org/abs/1711.05101"
   ]
  },
  {
   "cell_type": "code",
   "execution_count": null,
   "id": "8f531004-0209-41c7-bb6f-2b40a6ec0238",
   "metadata": {},
   "outputs": [],
   "source": [
    "# TUTAJ KOD"
   ]
  }
 ],
 "metadata": {
  "kernelspec": {
   "display_name": "Python 3 (ipykernel)",
   "language": "python",
   "name": "python3"
  },
  "language_info": {
   "codemirror_mode": {
    "name": "ipython",
    "version": 3
   },
   "file_extension": ".py",
   "mimetype": "text/x-python",
   "name": "python",
   "nbconvert_exporter": "python",
   "pygments_lexer": "ipython3",
   "version": "3.11.8"
  }
 },
 "nbformat": 4,
 "nbformat_minor": 5
}
