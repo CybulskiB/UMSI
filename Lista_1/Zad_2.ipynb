{
 "cells": [
  {
   "cell_type": "markdown",
   "metadata": {},
   "source": [
    "# Pobranie danych oraz stworzenie macierzy oceny"
   ]
  },
  {
   "cell_type": "code",
   "execution_count": 81,
   "metadata": {},
   "outputs": [
    {
     "name": "stdout",
     "output_type": "stream",
     "text": [
      "   movieId                               title  \\\n",
      "0        1                    Toy Story (1995)   \n",
      "1        2                      Jumanji (1995)   \n",
      "2        3             Grumpier Old Men (1995)   \n",
      "3        4            Waiting to Exhale (1995)   \n",
      "4        5  Father of the Bride Part II (1995)   \n",
      "\n",
      "                                        genres  \n",
      "0  Adventure|Animation|Children|Comedy|Fantasy  \n",
      "1                   Adventure|Children|Fantasy  \n",
      "2                               Comedy|Romance  \n",
      "3                         Comedy|Drama|Romance  \n",
      "4                                       Comedy  \n",
      "(610, 9018)\n"
     ]
    }
   ],
   "source": [
    "import pandas as pd\n",
    "import numpy as np\n",
    "import matplotlib.pyplot as plt\n",
    "np.set_printoptions(threshold=np.inf)\n",
    "\n",
    "max_move_id = 10000\n",
    "\n",
    "file_rating_path = 'ml-latest-small/ratings.csv'\n",
    "rating = pd.read_csv(file_rating_path)\n",
    "rating = rating[rating['movieId'] < max_move_id]\n",
    "max_movie_id = rating['movieId'].max()\n",
    "\n",
    "#rating = rating.loc[rating['movieId'] < 10000]\n",
    "movies_ids = rating['movieId'].unique()\n",
    "#print(movies_ids)\n",
    "\n",
    "file_movie_path = 'ml-latest-small/movies.csv'\n",
    "all_possible_movies = pd.DataFrame({'movieId': np.arange(1, max_movie_id + 1)})\n",
    "movies = pd.read_csv(file_movie_path)\n",
    "movies = movies[movies['movieId'].isin(movies_ids)]\n",
    "movies = pd.merge(all_possible_movies, movies, how='left', on='movieId')\n",
    "\n",
    "print(movies.head(5))\n",
    "\n",
    "index = pd.MultiIndex.from_product([rating['userId'].unique(), np.arange(1, max_movie_id + 1)], names=['userId', 'movieId'])\n",
    "rating_matrix = pd.DataFrame(index=index).reset_index()\n",
    "rating_matrix = pd.merge(rating_matrix, rating, how='left', on=['userId', 'movieId'])\n",
    "rating_matrix = rating_matrix.pivot(index='userId', columns='movieId', values='rating')\n",
    "rating_matrix = rating_matrix.fillna(0)\n",
    "rating_matrix = np.array(rating_matrix)\n",
    "\n",
    "print(rating_matrix.shape)\n",
    "no_movies = rating_matrix.shape[1]"
   ]
  },
  {
   "cell_type": "markdown",
   "metadata": {},
   "source": [
    "# Funkcja do systemu rekomendacji\n",
    "\n",
    "Troche o podobienstwie cosinusowym:\n",
    "\n",
    "    - wartośc cosinusa jest od -1 (filmy przeciwne) do +1 (filmy bardzo podobne)\n",
    "    - w oficjalnym wzorze jes to  x dot y / norm(x) norm(y) = cos O, ale po normalizacji norm(x) = 1, norm(y) = 1"
   ]
  },
  {
   "cell_type": "code",
   "execution_count": 82,
   "metadata": {},
   "outputs": [],
   "source": [
    "def get_recommendation(rating_matrix, personal_rating):\n",
    "   #print(np.linalg.norm(rating_matrix, axis=0))\n",
    "   normalized_rating_matrix = np.nan_to_num(rating_matrix/np.linalg.norm(rating_matrix, axis=0))\n",
    "   # Obliczamy podobieństwo cosinusowe z każdym użytkownikiem (skorzystamy z mnożenia macierzowego)\n",
    "   z=np.dot(normalized_rating_matrix, np.nan_to_num(np.array(personal_rating)/np.linalg.norm(personal_rating)))\n",
    "   # Teraz mamy profil filmowy - w jakim stopniu jestesmy podobni do danego uzytkownika\n",
    "   # print(len(z))\n",
    "   recommendation = np.dot(normalized_rating_matrix.T, np.nan_to_num(z/np.linalg.norm(z)))\n",
    "   return recommendation\n",
    "\n",
    "def propose_recommendations(recommendation, movies_matrix):\n",
    "   recommendation_matrix = movies_matrix.copy()\n",
    "   recommendation_matrix['recommendation'] = recommendation\n",
    "   recommendation_matrix = recommendation_matrix.sort_values(by='recommendation', ascending=False)\n",
    "   return recommendation_matrix[['movieId', 'title', 'genres', 'recommendation']]\n",
    "   \n"
   ]
  },
  {
   "cell_type": "code",
   "execution_count": 86,
   "metadata": {},
   "outputs": [
    {
     "name": "stdout",
     "output_type": "stream",
     "text": [
      "      movieId                                          title  \\\n",
      "324       325          National Lampoon's Senior Trip (1995)   \n",
      "8           9                            Sudden Death (1995)   \n",
      "17         18                              Four Rooms (1995)   \n",
      "78         79                              Juror, The (1996)   \n",
      "809       810                                  Kazaam (1996)   \n",
      "2322     2323                             Cruise, The (1998)   \n",
      "6121     6122  Richard Pryor Live on the Sunset Strip (1982)   \n",
      "101       102                               Mr. Wrong (1996)   \n",
      "710       711                                 Flipper (1996)   \n",
      "4977     4978                                 Lantana (2001)   \n",
      "\n",
      "                       genres  recommendation  \n",
      "324                    Comedy        0.600919  \n",
      "8                      Action        0.596031  \n",
      "17                     Comedy        0.528017  \n",
      "78             Drama|Thriller        0.460196  \n",
      "809   Children|Comedy|Fantasy        0.421419  \n",
      "2322              Documentary        0.416688  \n",
      "6121       Comedy|Documentary        0.414283  \n",
      "101                    Comedy        0.411478  \n",
      "710        Adventure|Children        0.409323  \n",
      "4977   Drama|Mystery|Thriller        0.398806  \n"
     ]
    },
    {
     "name": "stderr",
     "output_type": "stream",
     "text": [
      "C:\\Users\\Cebulka\\AppData\\Local\\Temp\\ipykernel_4376\\427650922.py:3: RuntimeWarning: invalid value encountered in divide\n",
      "  normalized_rating_matrix = np.nan_to_num(rating_matrix/np.linalg.norm(rating_matrix, axis=0))\n"
     ]
    }
   ],
   "source": [
    "my_ratings = np.zeros(no_movies)\n",
    "my_ratings[8] = 5 \n",
    "my_ratings[297] = 3 \n",
    "my_ratings[324] = 5 \n",
    "my_ratings[17] = 4 \n",
    "\n",
    "\n",
    "recommendation = get_recommendation(rating_matrix, my_ratings)\n",
    "#print(len(recommendation))\n",
    "propositions = propose_recommendations(recommendation, movies)\n",
    "print(propositions.head(10))"
   ]
  }
 ],
 "metadata": {
  "kernelspec": {
   "display_name": "Python 3",
   "language": "python",
   "name": "python3"
  },
  "language_info": {
   "codemirror_mode": {
    "name": "ipython",
    "version": 3
   },
   "file_extension": ".py",
   "mimetype": "text/x-python",
   "name": "python",
   "nbconvert_exporter": "python",
   "pygments_lexer": "ipython3",
   "version": "3.11.8"
  }
 },
 "nbformat": 4,
 "nbformat_minor": 2
}
